{
 "cells": [
  {
   "cell_type": "markdown",
   "metadata": {},
   "source": [
    "# Aim : Code to convert pdf to text\n",
    "\n",
    "So there are a number of libraries that can be used to convert pdf to text.\n",
    "\n",
    "1. pymupdf4llm\n",
    "\n",
    "Let's go through each of them."
   ]
  },
  {
   "cell_type": "markdown",
   "metadata": {},
   "source": [
    "## Loading our pdf files"
   ]
  },
  {
   "cell_type": "code",
   "execution_count": 1,
   "metadata": {},
   "outputs": [
    {
     "name": "stdout",
     "output_type": "stream",
     "text": [
      "['/Users/deveshsurve/UNIVERSITY/PROJECT/classify-pdf/data_files/Compliance Report 4.pdf', '/Users/deveshsurve/UNIVERSITY/PROJECT/classify-pdf/data_files/Compliance Report 1.pdf', '/Users/deveshsurve/UNIVERSITY/PROJECT/classify-pdf/data_files/Compliance Report 2.pdf', '/Users/deveshsurve/UNIVERSITY/PROJECT/classify-pdf/data_files/Compliance Report 3.pdf', '/Users/deveshsurve/UNIVERSITY/PROJECT/classify-pdf/data_files/Sleep Study Report 3.pdf', '/Users/deveshsurve/UNIVERSITY/PROJECT/classify-pdf/data_files/Sleep Study Report 2.pdf', '/Users/deveshsurve/UNIVERSITY/PROJECT/classify-pdf/data_files/Sleep Study Report 1.pdf', '/Users/deveshsurve/UNIVERSITY/PROJECT/classify-pdf/data_files/Sleep Study Report 4.pdf', '/Users/deveshsurve/UNIVERSITY/PROJECT/classify-pdf/data_files/Order 3.pdf', '/Users/deveshsurve/UNIVERSITY/PROJECT/classify-pdf/data_files/Delivery Ticket 2.pdf', '/Users/deveshsurve/UNIVERSITY/PROJECT/classify-pdf/data_files/Physician Notes 1.pdf', '/Users/deveshsurve/UNIVERSITY/PROJECT/classify-pdf/data_files/Prescription 4.pdf', '/Users/deveshsurve/UNIVERSITY/PROJECT/classify-pdf/data_files/Order 2.pdf', '/Users/deveshsurve/UNIVERSITY/PROJECT/classify-pdf/data_files/Physician Notes 3.pdf', '/Users/deveshsurve/UNIVERSITY/PROJECT/classify-pdf/data_files/Delivery Ticket 1.pdf', '/Users/deveshsurve/UNIVERSITY/PROJECT/classify-pdf/data_files/Physician Notes 2.pdf', '/Users/deveshsurve/UNIVERSITY/PROJECT/classify-pdf/data_files/Order 1.pdf', '/Users/deveshsurve/UNIVERSITY/PROJECT/classify-pdf/data_files/Prescription 2.pdf', '/Users/deveshsurve/UNIVERSITY/PROJECT/classify-pdf/data_files/Order 4.pdf', '/Users/deveshsurve/UNIVERSITY/PROJECT/classify-pdf/data_files/Physician Notes 4.pdf', '/Users/deveshsurve/UNIVERSITY/PROJECT/classify-pdf/data_files/Prescription 1.pdf']\n"
     ]
    }
   ],
   "source": [
    "# Let's load all the pdf files from the directory\n",
    "\n",
    "import os\n",
    "import dotenv\n",
    "\n",
    "dotenv.load_dotenv()\n",
    "\n",
    "folder_path = os.getenv(\"CLAIM_LOCATION\")\n",
    "\n",
    "pdf_files = [folder_path + \"/\" + f for f in os.listdir(folder_path) if f.endswith(\".pdf\")]\n",
    "\n",
    "print(pdf_files)"
   ]
  },
  {
   "cell_type": "markdown",
   "metadata": {},
   "source": [
    "# First, let's try pymupdf4llm"
   ]
  },
  {
   "cell_type": "code",
   "execution_count": 2,
   "metadata": {},
   "outputs": [],
   "source": [
    "def extract_text_pymupdf4llm(pdf_file):\n",
    "    import pymupdf4llm\n",
    "    md_text = pymupdf4llm.to_markdown(pdf_file)\n",
    "    return md_text\n"
   ]
  },
  {
   "cell_type": "code",
   "execution_count": 3,
   "metadata": {},
   "outputs": [
    {
     "name": "stdout",
     "output_type": "stream",
     "text": [
      "Processing /Users/deveshsurve/UNIVERSITY/PROJECT/classify-pdf/data_files/Compliance Report 1.pdf...\n",
      "[                                        ] (0/4=========[==========                              ] (1/4=========[====================                    ] (2/4=========[==============================          ] (3/4=========[========================================] (4/4]\n",
      "FORT LAUDERDALE COMPL\n",
      "6600 NW 12TH AVE STE 217\n",
      "FORT LAUDERDALE\n",
      "Florida, 33309\n",
      "\n",
      "Phone: 954-772-5052\n",
      "Email: LSOLOGUREN@AHCEQUIP.COM\n",
      "\n",
      "\n",
      "##### ABREU, JUAN\n",
      "\n",
      "\n",
      "# Compliance Report\n",
      "\n",
      "\n",
      "##### 07/19/2023 - 08/17/2023\n",
      "\n",
      "Patient ID: 113538\n",
      "\n",
      "DOB: 08/12/1978\n",
      "\n",
      "Age: 45 years\n",
      "\n",
      "Gender: Male\n",
      "\n",
      "\n",
      "#### Initial compliance period 07/19/2023 - 08/17/2023\n",
      "\n",
      "Compliance met Yes\n",
      "\n",
      "Compliance percentage 100%\n",
      "\n",
      "Payor Medicare\n",
      "\n",
      "#### Usage 07/19/2023 - 08/17/2023\n",
      "\n",
      "Usage days 30/30 days (100%)\n",
      "\n",
      ">= 4 hours 30 days (100%)\n",
      "\n",
      "< 4 hours 0 days (0%)\n",
      "\n",
      "Usage hours 323 hours 21 minutes\n",
      "\n",
      "Average usage (total days) 10 hours 47 minutes\n",
      "\n",
      "Average usage (days used) 10 hours 47 minutes\n",
      "\n",
      "Median usage (days used) 11 hours 14 minutes\n",
      "\n",
      "Total used hours (value since last reset - 08/17/2023) 931 hours\n",
      "\n",
      "\n",
      "#### AirSense 11 AutoSet\n",
      "\n",
      "\n",
      "Serial number 22231038074\n",
      "\n",
      "Mode CPAP\n",
      "\n",
      "Set pressure 15 cmH2O\n",
      "\n",
      "EPR Fulltime\n",
      "\n",
      "EPR level 3\n",
      "\n",
      "\n",
      "#### Therapy\n",
      "\n",
      "\n",
      "Leaks - L/min Median: 120.0 95th percentile:120.0 Maximum:120.0\n",
      "\n",
      "Events per hour AI: 8.7 HI: 0.4 AHI: 9.1\n",
      "\n",
      "Apnea Index Central: 0.0 Obstructive: 0.0 Unknown: 8.6\n",
      "\n",
      "RERA Index 1.0\n",
      "\n",
      "Cheyne-Stokes respiration (average duration per night) 0 minutes (0%)\n",
      "\n",
      "## Usage - hours\n",
      "\n",
      "\n",
      "-----\n",
      "\n",
      "FORT LAUDERDALE COMPL\n",
      "6600 NW 12TH AVE STE 217\n",
      "FORT LAUDERDALE\n",
      "Florida, 33309\n",
      "\n",
      "Phone: 954-772-5052\n",
      "Email: LSOLOGUREN@AHCEQUIP.COM\n",
      "\n",
      "\n",
      "##### ABREU, JUAN\n",
      " 07/19/2023 - 08/17/2023\n",
      "\n",
      "Patient ID: 113538\n",
      "\n",
      "DOB: 08/12/1978\n",
      "\n",
      "\n",
      "# Therapy Report\n",
      "\n",
      "\n",
      "Age: 45 years\n",
      "\n",
      "Gender: Male\n",
      "\n",
      "\n",
      "#### AirSense 11 AutoSet SN: 22231038074\n",
      "\n",
      "##### Usage (hours)\n",
      "\n",
      "Usage days 30/30 (100%)\n",
      "\n",
      ">= 4 hour days 30 (100%)\n",
      "\n",
      "< 4 hour days 0 (0%)\n",
      "\n",
      "Days not used 0 (0%)\n",
      "\n",
      "Days no data 0 (0%)\n",
      "\n",
      "Used/day (avg.) 10.8 hrs.\n",
      "\n",
      "##### Leak (L/min)\n",
      "\n",
      "Set threshold 24.0 L/min\n",
      "\n",
      "Maximum (avg) 120.0\n",
      "\n",
      "95th % (avg) 120.0\n",
      "\n",
      "Median (avg) 120.0\n",
      "\n",
      "##### Pressure (cmH2O)\n",
      "\n",
      "Mode CPAP\n",
      "\n",
      "Set EPR Fulltime,\n",
      "\n",
      "3.0\n",
      "\n",
      "Set pressure 15.0\n",
      "\n",
      "##### AHI (events/hour)\n",
      "\n",
      "**AHI** **9.1**\n",
      "\n",
      "HI **0.4**\n",
      "\n",
      "AI **8.7**\n",
      "\n",
      "CAI 0.0\n",
      "\n",
      "OAI 0.0\n",
      "\n",
      "UAI 8.6\n",
      "\n",
      "RERA 1.0\n",
      "\n",
      "CSR% (avg) 0.0\n",
      "\n",
      "\n",
      "-----\n",
      "\n",
      "FORT LAUDERDALE COMPL\n",
      "6600 NW 12TH AVE STE 217\n",
      "FORT LAUDERDALE\n",
      "Florida, 33309\n",
      "\n",
      "Phone: 954-772-5052\n",
      "Email: LSOLOGUREN@AHCEQUIP.COM\n",
      "\n",
      "# Therapy Report\n",
      "\n",
      "\n",
      "##### ABREU, JUAN\n",
      " 07/19/2023 - 08/17/2023\n",
      "\n",
      "Patient ID: 113538\n",
      "\n",
      "DOB: 08/12/1978\n",
      "\n",
      "Age: 45 years\n",
      "\n",
      "\n",
      "Gender: Male\n",
      "\n",
      "\n",
      "#### AirSense 11 AutoSet SN: 22231038074\n",
      "\n",
      "##### Tidal Volume (ml)\n",
      "\n",
      "Maximum (avg) 1621\n",
      "\n",
      "95th % (avg) 745\n",
      "\n",
      "Median (avg) 275\n",
      "\n",
      "##### Respiratory Rate (breaths/min)\n",
      "\n",
      "Maximum (avg) 38\n",
      "\n",
      "95th % (avg) 30\n",
      "\n",
      "Median (avg) 19\n",
      "\n",
      "##### Minute Ventilation (L/min)\n",
      "\n",
      "Maximum (avg) 23.1\n",
      "\n",
      "95th % (avg) 12.8\n",
      "\n",
      "Median (avg) 5.2\n",
      "\n",
      "\n",
      "-----\n",
      "\n",
      "FORT LAUDERDALE COMPL\n",
      "6600 NW 12TH AVE STE 217\n",
      "FORT LAUDERDALE\n",
      "Florida, 33309\n",
      "\n",
      "Phone: 954-772-5052\n",
      "Email: LSOLOGUREN@AHCEQUIP.COM\n",
      "\n",
      "\n",
      "# Therapy Report\n",
      "\n",
      "\n",
      "##### ABREU, JUAN\n",
      " 07/19/2023 - 08/17/2023\n",
      "\n",
      "Patient ID: 113538\n",
      "\n",
      "DOB: 08/12/1978\n",
      "\n",
      "Age: 45 years\n",
      "\n",
      "\n",
      "Gender: Male\n",
      "\n",
      "\n",
      "#### AirSense 11 AutoSet SN: 22231038074\n",
      "\n",
      "### Care Check-In\n",
      "\n",
      "No available data because the user declined to answer the therapy questions, this feature was\n",
      "turned off on the user’s machine or the user did not consent to share their data with myAir.\n",
      "\n",
      "About Care Check-In\n",
      "Short patient surveys are conducted on the AirSense 11 and myAir app to better understand how\n",
      "the patient is doing with therapy. If the patient consents, we can share Care Check-In information\n",
      "through AirView for clinical users.\n",
      "\n",
      "Questions and answers\n",
      "At the beginning of therapy, the patient is asked a baseline question. A few additional questions are\n",
      "asked, about once per week, during the early stages of therapy. For example:\n",
      "\n",
      "How sleepy did you feel this week? Extremely, Very, Moderately, Slightly, Not at all.\n",
      "\n",
      "How is your therapy? Great, OK, Challenging.\n",
      "\n",
      "What bothers you most? Getting used to therapy, Fitting the mask, Using the machine.\n",
      "\n",
      "Please rate your usual sleep quality. Very poor, Poor, OK, Good, Excellent\n",
      "\n",
      "How was your sleep quality in the last week? Very poor, Poor, OK, Good, Excellent\n",
      "\n",
      "\n",
      "-----\n",
      "\n",
      "\n"
     ]
    }
   ],
   "source": [
    "md_text = extract_text_pymupdf4llm(pdf_files[1])\n",
    "print(md_text)\n"
   ]
  },
  {
   "cell_type": "markdown",
   "metadata": {},
   "source": [
    "# Next, let's try pymupdf\n"
   ]
  },
  {
   "cell_type": "code",
   "execution_count": 4,
   "metadata": {},
   "outputs": [],
   "source": [
    "def extract_text_pymupdf(pdf_file):\n",
    "  import pymupdf # imports the pymupdf library\n",
    "\n",
    "  total_text = \"\"\n",
    "\n",
    "  doc = pymupdf.open(pdf_file) # open a document\n",
    "  for page in doc: # iterate the document pages\n",
    "        text = page.get_text() # get plain text encoded as UTF-8\n",
    "        total_text += text\n",
    "  return total_text\n",
    "\n",
    "total_text = extract_text_pymupdf(pdf_files[1])"
   ]
  },
  {
   "cell_type": "code",
   "execution_count": 5,
   "metadata": {},
   "outputs": [
    {
     "name": "stdout",
     "output_type": "stream",
     "text": [
      "ABREU, JUAN\n",
      "07/19/2023 - 08/17/2023\n",
      "Patient ID: 113538\n",
      "DOB: 08/12/1978\n",
      "Age: 45 years\n",
      "Gender: Male\n",
      "FORT LAUDERDALE COMPL\n",
      "6600 NW 12TH AVE STE 217\n",
      "FORT LAUDERDALE\n",
      "Florida, 33309\n",
      "Phone: 954-772-5052\n",
      "Email: LSOLOGUREN@AHCEQUIP.COM\n",
      "Compliance Report\n",
      "Initial compliance period\n",
      "07/19/2023 - 08/17/2023\n",
      "Compliance met\n",
      "Yes\n",
      "Compliance percentage\n",
      "100%\n",
      "Payor\n",
      "Medicare\n",
      "Usage\n",
      "07/19/2023 - 08/17/2023\n",
      "Usage days\n",
      "30/30 days (100%)\n",
      ">= 4 hours\n",
      "30 days (100%)\n",
      "< 4 hours\n",
      "0 days (0%)\n",
      "Usage hours\n",
      "323 hours 21 minutes\n",
      "Average usage (total days)\n",
      "10 hours 47 minutes\n",
      "Average usage (days used)\n",
      "10 hours 47 minutes\n",
      "Median usage (days used)\n",
      "11 hours 14 minutes\n",
      "Total used hours (value since last reset - 08/17/2023)\n",
      "931 hours\n",
      "AirSense 11 AutoSet\n",
      "Serial number\n",
      "22231038074\n",
      "Mode\n",
      "CPAP\n",
      "Set pressure\n",
      "15 cmH2O\n",
      "EPR\n",
      "Fulltime\n",
      "EPR level\n",
      "3\n",
      "Therapy\n",
      "Leaks - L/min\n",
      "Median: 120.0\n",
      "95th percentile:120.0\n",
      "Maximum:120.0\n",
      "Events per hour\n",
      "AI:\n",
      "8.7\n",
      "HI:\n",
      "0.4\n",
      "AHI:\n",
      "9.1\n",
      "Apnea Index\n",
      "Central:\n",
      "0.0\n",
      "Obstructive:\n",
      "0.0\n",
      "Unknown:\n",
      "8.6\n",
      "RERA Index\n",
      "1.0\n",
      "Cheyne-Stokes respiration (average duration per night)\n",
      "0 minutes (0%)\n",
      "Usage - hours\n",
      "ABREU, JUAN\n",
      "07/19/2023 - 08/17/2023\n",
      "Patient ID: 113538\n",
      "DOB: 08/12/1978\n",
      "Age: 45 years\n",
      "Gender: Male\n",
      "FORT LAUDERDALE COMPL\n",
      "6600 NW 12TH AVE STE 217\n",
      "FORT LAUDERDALE\n",
      "Florida, 33309\n",
      "Phone: 954-772-5052\n",
      "Email: LSOLOGUREN@AHCEQUIP.COM\n",
      "Therapy Report\n",
      "AirSense 11 AutoSet\n",
      "SN: 22231038074\n",
      "Usage (hours)\n",
      "Usage days\n",
      "30/30 (100%)\n",
      ">= 4 hour days\n",
      "30 (100%)\n",
      "< 4 hour days\n",
      "0 (0%)\n",
      "Days not used\n",
      "0 (0%)\n",
      "Days no data\n",
      "0 (0%)\n",
      "Used/day (avg.)\n",
      "10.8 hrs.\n",
      "Leak (L/min)\n",
      "Set threshold\n",
      "24.0 L/min\n",
      "Maximum (avg)\n",
      "120.0\n",
      "95th % (avg)\n",
      "120.0\n",
      "Median (avg)\n",
      "120.0\n",
      "Pressure (cmH2O)\n",
      "Mode\n",
      "CPAP\n",
      "Set EPR\n",
      "Fulltime,\n",
      "3.0\n",
      "Set pressure\n",
      "15.0\n",
      "AHI (events/hour)\n",
      "AHI\n",
      "9.1\n",
      "HI\n",
      "0.4\n",
      "AI\n",
      "8.7\n",
      "CAI\n",
      "0.0\n",
      "OAI\n",
      "0.0\n",
      "UAI\n",
      "8.6\n",
      "RERA\n",
      "1.0\n",
      "CSR% (avg)\n",
      "0.0\n",
      "ABREU, JUAN\n",
      "07/19/2023 - 08/17/2023\n",
      "Patient ID: 113538\n",
      "DOB: 08/12/1978\n",
      "Age: 45 years\n",
      "Gender: Male\n",
      "FORT LAUDERDALE COMPL\n",
      "6600 NW 12TH AVE STE 217\n",
      "FORT LAUDERDALE\n",
      "Florida, 33309\n",
      "Phone: 954-772-5052\n",
      "Email: LSOLOGUREN@AHCEQUIP.COM\n",
      "Therapy Report\n",
      "AirSense 11 AutoSet\n",
      "SN: 22231038074\n",
      "Tidal Volume (ml)\n",
      "Maximum (avg)\n",
      "1621\n",
      "95th % (avg)\n",
      "745\n",
      "Median (avg)\n",
      "275\n",
      "Respiratory Rate (breaths/min)\n",
      "Maximum (avg)\n",
      "38\n",
      "95th % (avg)\n",
      "30\n",
      "Median (avg)\n",
      "19\n",
      "Minute Ventilation (L/min)\n",
      "Maximum (avg)\n",
      "23.1\n",
      "95th % (avg)\n",
      "12.8\n",
      "Median (avg)\n",
      "5.2\n",
      "ABREU, JUAN\n",
      "07/19/2023 - 08/17/2023\n",
      "Patient ID: 113538\n",
      "DOB: 08/12/1978\n",
      "Age: 45 years\n",
      "Gender: Male\n",
      "FORT LAUDERDALE COMPL\n",
      "6600 NW 12TH AVE STE 217\n",
      "FORT LAUDERDALE\n",
      "Florida, 33309\n",
      "Phone: 954-772-5052\n",
      "Email: LSOLOGUREN@AHCEQUIP.COM\n",
      "Therapy Report\n",
      "AirSense 11 AutoSet\n",
      "SN: 22231038074\n",
      "Care Check-In\n",
      "No available data because the user declined to answer the therapy questions, this feature was\n",
      "turned off on the user’s machine or the user did not consent to share their data with myAir.\n",
      "About Care Check-In\n",
      "Short patient surveys are conducted on the AirSense 11 and myAir app to better understand how\n",
      "the patient is doing with therapy. If the patient consents, we can share Care Check-In information\n",
      "through AirView for clinical users.\n",
      "Questions and answers\n",
      "At the beginning of therapy, the patient is asked a baseline question. A few additional questions are\n",
      "asked, about once per week, during the early stages of therapy. For example:\n",
      "How sleepy did you feel this week?  Extremely, Very, Moderately, Slightly, Not at all.\n",
      "How is your therapy?  Great, OK, Challenging.\n",
      "What bothers you most?  Getting used to therapy, Fitting the mask, Using the machine.\n",
      "Please rate your usual sleep quality.  Very poor, Poor, OK, Good, Excellent\n",
      "How was your sleep quality in the last week?  Very poor, Poor, OK, Good, Excellent\n",
      "\n"
     ]
    }
   ],
   "source": [
    "print(total_text)"
   ]
  },
  {
   "cell_type": "markdown",
   "metadata": {},
   "source": [
    "# Next, let's try pdfminer-six"
   ]
  },
  {
   "cell_type": "code",
   "execution_count": 6,
   "metadata": {},
   "outputs": [],
   "source": [
    "def extract_text_pdfminer(pdf_file):    \n",
    "    from pdfminer.high_level import extract_text\n",
    "    text = extract_text(pdf_file)\n",
    "    return text\n",
    "\n",
    "text = extract_text_pdfminer(pdf_files[1])\n"
   ]
  },
  {
   "cell_type": "code",
   "execution_count": 7,
   "metadata": {},
   "outputs": [
    {
     "name": "stdout",
     "output_type": "stream",
     "text": [
      "FORT LAUDERDALE COMPL\n",
      "6600 NW 12TH AVE STE 217\n",
      "FORT LAUDERDALE\n",
      "Florida, 33309\n",
      "\n",
      "Phone: 954-772-5052\n",
      "Email: LSOLOGUREN@AHCEQUIP.COM\n",
      "\n",
      "Compliance Report\n",
      "\n",
      "ABREU, JUAN\n",
      "\n",
      "07/19/2023 - 08/17/2023\n",
      "\n",
      "Patient ID: 113538\n",
      "DOB: 08/12/1978\n",
      "Age: 45 years\n",
      "Gender: Male\n",
      "\n",
      "Initial compliance period\n",
      "\n",
      "07/19/2023 - 08/17/2023\n",
      "\n",
      "Compliance met\n",
      "\n",
      "Compliance percentage\n",
      "\n",
      "Payor\n",
      "\n",
      "Usage\n",
      "\n",
      "Usage days\n",
      "\n",
      ">= 4 hours\n",
      "\n",
      "< 4 hours\n",
      "\n",
      "Usage hours\n",
      "\n",
      "Average usage (total days)\n",
      "\n",
      "Average usage (days used)\n",
      "\n",
      "Median usage (days used)\n",
      "\n",
      "Yes\n",
      "\n",
      "100%\n",
      "\n",
      "Medicare\n",
      "\n",
      "07/19/2023 - 08/17/2023\n",
      "\n",
      "30/30 days (100%)\n",
      "\n",
      "30 days (100%)\n",
      "\n",
      "0 days (0%)\n",
      "\n",
      "323 hours 21 minutes\n",
      "\n",
      "10 hours 47 minutes\n",
      "\n",
      "10 hours 47 minutes\n",
      "\n",
      "11 hours 14 minutes\n",
      "\n",
      "Total used hours (value since last reset - 08/17/2023)\n",
      "\n",
      "931 hours\n",
      "\n",
      "AirSense 11 AutoSet\n",
      "\n",
      "Serial number\n",
      "\n",
      "Mode\n",
      "\n",
      "Set pressure\n",
      "\n",
      "EPR\n",
      "\n",
      "EPR level\n",
      "\n",
      "Therapy\n",
      "\n",
      "22231038074\n",
      "\n",
      "CPAP\n",
      "\n",
      "15 cmH2O\n",
      "\n",
      "Fulltime\n",
      "\n",
      "3\n",
      "\n",
      "Leaks - L/min\n",
      "\n",
      "Median: 120.0\n",
      "\n",
      "95th percentile:120.0\n",
      "\n",
      "Maximum:120.0\n",
      "\n",
      "Events per hour\n",
      "\n",
      "AI:\n",
      "\n",
      "8.7\n",
      "\n",
      "HI:\n",
      "\n",
      "0.4\n",
      "\n",
      "AHI:\n",
      "\n",
      "9.1\n",
      "\n",
      "Apnea Index\n",
      "\n",
      "Central:\n",
      "\n",
      "0.0\n",
      "\n",
      "Obstructive: 0.0\n",
      "\n",
      "Unknown:\n",
      "\n",
      "8.6\n",
      "\n",
      "RERA Index\n",
      "\n",
      "1.0\n",
      "\n",
      "Cheyne-Stokes respiration (average duration per night)\n",
      "\n",
      "0 minutes (0%)\n",
      "\n",
      "Usage - hours\n",
      "\n",
      "\fFORT LAUDERDALE COMPL\n",
      "6600 NW 12TH AVE STE 217\n",
      "FORT LAUDERDALE\n",
      "Florida, 33309\n",
      "\n",
      "Phone: 954-772-5052\n",
      "Email: LSOLOGUREN@AHCEQUIP.COM\n",
      "\n",
      "Therapy Report\n",
      "\n",
      "AirSense 11 AutoSet\n",
      "\n",
      "Usage (hours)\n",
      "\n",
      "ABREU, JUAN\n",
      "07/19/2023 - 08/17/2023\n",
      "\n",
      "Patient ID: 113538\n",
      "DOB: 08/12/1978\n",
      "Age: 45 years\n",
      "Gender: Male\n",
      "\n",
      "SN: 22231038074\n",
      "\n",
      "Usage days\n",
      ">= 4 hour days\n",
      "< 4 hour days\n",
      "Days not used\n",
      "Days no data\n",
      "\n",
      "30/30 (100%)\n",
      "30 (100%)\n",
      "0 (0%)\n",
      "0 (0%)\n",
      "0 (0%)\n",
      "\n",
      "Used/day (avg.)\n",
      "\n",
      "10.8 hrs.\n",
      "\n",
      "Leak (L/min)\n",
      "\n",
      "Set threshold\n",
      "\n",
      "24.0 L/min\n",
      "\n",
      "Maximum (avg)\n",
      "95th % (avg)\n",
      "Median (avg)\n",
      "\n",
      "120.0\n",
      "120.0\n",
      "120.0\n",
      "\n",
      "Pressure (cmH2O)\n",
      "\n",
      "Mode\n",
      "Set EPR\n",
      "\n",
      "CPAP\n",
      "Fulltime,\n",
      "3.0\n",
      "\n",
      "Set pressure\n",
      "\n",
      "15.0\n",
      "\n",
      "AHI (events/hour)\n",
      "\n",
      "AHI\n",
      "HI\n",
      "AI\n",
      "\n",
      "CAI\n",
      "OAI\n",
      "UAI\n",
      "RERA\n",
      "CSR% (avg)\n",
      "\n",
      "9.1\n",
      "0.4\n",
      "8.7\n",
      "\n",
      "0.0\n",
      "0.0\n",
      "8.6\n",
      "1.0\n",
      "0.0\n",
      "\n",
      "\fABREU, JUAN\n",
      "07/19/2023 - 08/17/2023\n",
      "\n",
      "Patient ID: 113538\n",
      "DOB: 08/12/1978\n",
      "Age: 45 years\n",
      "Gender: Male\n",
      "\n",
      "SN: 22231038074\n",
      "\n",
      "FORT LAUDERDALE COMPL\n",
      "6600 NW 12TH AVE STE 217\n",
      "FORT LAUDERDALE\n",
      "Florida, 33309\n",
      "\n",
      "Phone: 954-772-5052\n",
      "Email: LSOLOGUREN@AHCEQUIP.COM\n",
      "\n",
      "Therapy Report\n",
      "\n",
      "AirSense 11 AutoSet\n",
      "\n",
      "Tidal Volume (ml)\n",
      "\n",
      "Maximum (avg)\n",
      "\n",
      "95th % (avg)\n",
      "\n",
      "Median (avg)\n",
      "\n",
      "1621\n",
      "\n",
      "745\n",
      "\n",
      "275\n",
      "\n",
      "Respiratory Rate (breaths/min)\n",
      "\n",
      "Maximum (avg)\n",
      "\n",
      "95th % (avg)\n",
      "\n",
      "Median (avg)\n",
      "\n",
      "38\n",
      "\n",
      "30\n",
      "\n",
      "19\n",
      "\n",
      "Minute Ventilation (L/min)\n",
      "\n",
      "Maximum (avg)\n",
      "\n",
      "95th % (avg)\n",
      "\n",
      "Median (avg)\n",
      "\n",
      "23.1\n",
      "\n",
      "12.8\n",
      "\n",
      "5.2\n",
      "\n",
      "\fFORT LAUDERDALE COMPL\n",
      "6600 NW 12TH AVE STE 217\n",
      "FORT LAUDERDALE\n",
      "Florida, 33309\n",
      "\n",
      "Phone: 954-772-5052\n",
      "Email: LSOLOGUREN@AHCEQUIP.COM\n",
      "\n",
      "Therapy Report\n",
      "\n",
      "AirSense 11 AutoSet\n",
      "\n",
      "Care Check-In\n",
      "\n",
      "ABREU, JUAN\n",
      "07/19/2023 - 08/17/2023\n",
      "\n",
      "Patient ID: 113538\n",
      "DOB: 08/12/1978\n",
      "Age: 45 years\n",
      "Gender: Male\n",
      "\n",
      "SN: 22231038074\n",
      "\n",
      "No available data because the user declined to answer the therapy questions, this feature was\n",
      "turned off on the user’s machine or the user did not consent to share their data with myAir.\n",
      "\n",
      "About Care Check-In\n",
      "Short patient surveys are conducted on the AirSense 11 and myAir app to better understand how\n",
      "the patient is doing with therapy. If the patient consents, we can share Care Check-In information\n",
      "through AirView for clinical users.\n",
      "\n",
      "Questions and answers\n",
      "At the beginning of therapy, the patient is asked a baseline question. A few additional questions are\n",
      "asked, about once per week, during the early stages of therapy. For example:\n",
      "\n",
      "How sleepy did you feel this week?  Extremely, Very, Moderately, Slightly, Not at all.\n",
      "\n",
      "How is your therapy?  Great, OK, Challenging.\n",
      "\n",
      "What bothers you most?  Getting used to therapy, Fitting the mask, Using the machine.\n",
      "\n",
      "Please rate your usual sleep quality.  Very poor, Poor, OK, Good, Excellent\n",
      "\n",
      "How was your sleep quality in the last week?  Very poor, Poor, OK, Good, Excellent\n",
      "\n",
      "\f\n"
     ]
    }
   ],
   "source": [
    "print(text)"
   ]
  },
  {
   "cell_type": "markdown",
   "metadata": {},
   "source": [
    "# Next, let's try llama-index\n"
   ]
  },
  {
   "cell_type": "code",
   "execution_count": 8,
   "metadata": {},
   "outputs": [
    {
     "name": "stdout",
     "output_type": "stream",
     "text": [
      "Started parsing the file under job_id 22db9d02-6729-412f-83ad-626c9d69b266\n"
     ]
    }
   ],
   "source": [
    "def extract_text_llama_index(pdf_file):\n",
    "    from llama_parse import LlamaParse\n",
    "    from llama_index.core import SimpleDirectoryReader\n",
    "    import nest_asyncio; nest_asyncio.apply()\n",
    "\n",
    "    # set up parser\n",
    "    parser = LlamaParse(\n",
    "        result_type=\"markdown\"  # \"markdown\" and \"text\" are available\n",
    "    )\n",
    "\n",
    "    # use SimpleDirectoryReader to parse our file\n",
    "    file_extractor = {\".pdf\": parser}\n",
    "    documents = SimpleDirectoryReader(input_files=[pdf_file], file_extractor=file_extractor).load_data()\n",
    "    return documents[0].text\n",
    "\n",
    "text = extract_text_llama_index(pdf_files[1])\n"
   ]
  },
  {
   "cell_type": "code",
   "execution_count": 9,
   "metadata": {},
   "outputs": [
    {
     "name": "stdout",
     "output_type": "stream",
     "text": [
      "# Compliance Report\n",
      "\n",
      "Patient Name: Abreu, Juan\n",
      "\n",
      "Address: 6600 NW 12TH AVE STE 217, Fort Lauderdale, Florida, 33309\n",
      "\n",
      "Phone: 954-772-5052\n",
      "\n",
      "Email: LSOLOGUREN@AHCEQUIP.COM\n",
      "\n",
      "Patient ID: 113538\n",
      "\n",
      "DOB: 08/12/1978\n",
      "\n",
      "Age: 45 years\n",
      "\n",
      "Gender: Male\n",
      "\n",
      "Initial compliance period: 07/19/2023 - 08/17/2023\n",
      "\n",
      "Compliance met: Yes\n",
      "\n",
      "Compliance percentage: 100%\n",
      "\n",
      "Payor: Medicare\n",
      "\n",
      "# Usage\n",
      "\n",
      "Usage period: 07/19/2023 - 08/17/2023\n",
      "\n",
      "|Usage days|30/30 days (100%)|\n",
      "|---|---|\n",
      "|&gt;= 4 hours|30 days (100%)|\n",
      "|&lt; 4 hours|0 days (0%)|\n",
      "|Usage hours|323 hours 21 minutes|\n",
      "|Average usage (total days)|10 hours 47 minutes|\n",
      "|Average usage (days used)|10 hours 47 minutes|\n",
      "|Median usage (days used)|11 hours 14 minutes|\n",
      "|Total used hours (value since last reset - 08/17/2023)|931 hours|\n",
      "\n",
      "# Device Information\n",
      "\n",
      "Device: AirSense 11 AutoSet\n",
      "\n",
      "Serial number: 22231038074\n",
      "\n",
      "Mode: CPAP\n",
      "\n",
      "Set pressure: 15 cmH2O\n",
      "\n",
      "EPR: Fulltime\n",
      "\n",
      "EPR level: 3\n",
      "\n",
      "# Therapy\n",
      "\n",
      "|Leaks - L/min|Median: 120.0|95th percentile: 120.0|Maximum: 120.0|\n",
      "|---|---|---|---|\n",
      "|Events per hour|AI: 8.7|HI: 0.4|AHI: 9.1|\n",
      "|Apnea Index|Central: 0.0|Obstructive: 0.0|Unknown: 8.6|\n",
      "|RERA Index|1.0| | |\n",
      "|Cheyne-Stokes respiration (average duration per night)|0 minutes (0%)| | |\n"
     ]
    }
   ],
   "source": [
    "print(text)"
   ]
  },
  {
   "cell_type": "markdown",
   "metadata": {},
   "source": [
    "# Finally, Pypdf which also used in langchain\n"
   ]
  },
  {
   "cell_type": "code",
   "execution_count": 10,
   "metadata": {},
   "outputs": [],
   "source": [
    "def extract_text_pypdf(pdf_file):\n",
    "    from pypdf import PdfReader\n",
    "\n",
    "    reader = PdfReader(pdf_file)\n",
    "    number_of_pages = len(reader.pages)\n",
    "    page = reader.pages[0]\n",
    "    text = page.extract_text()\n",
    "    return text\n",
    "\n",
    "text = extract_text_pypdf(pdf_files[1])\n"
   ]
  },
  {
   "cell_type": "code",
   "execution_count": 11,
   "metadata": {},
   "outputs": [
    {
     "name": "stdout",
     "output_type": "stream",
     "text": [
      "ABREU, JUAN\n",
      "07/19/2023 - 08/17/2023\n",
      "Patient ID: 113538\n",
      "DOB: 08/12/1978\n",
      "Age: 45 years\n",
      "Gender: MaleFORT LAUDERDALE COMPL6600 NW 12TH AVE STE 217FORT LAUDERDALEFlorida, 33309\n",
      "Phone: 954-772-5052Email: LSOLOGUREN@AHCEQUIP.COM\n",
      "Compliance Report\n",
      "Initial compliance period 07/19/2023 - 08/17/2023\n",
      "Compliance met Yes\n",
      "Compliance percentage 100%\n",
      "Payor Medicare\n",
      "Usage 07/19/2023 - 08/17/2023\n",
      "Usage days 30/30 days (100%)\n",
      ">= 4 hours 30 days (100%)\n",
      "< 4 hours 0 days (0%)\n",
      "Usage hours 323 hours 21 minutes\n",
      "Average usage (total days) 10 hours 47 minutes\n",
      "Average usage (days used) 10 hours 47 minutes\n",
      "Median usage (days used) 11 hours 14 minutes\n",
      "Total used hours (value since last reset - 08/17/2023) 931 hours\n",
      "AirSense 11 AutoSet\n",
      "Serial number 22231038074\n",
      "Mode CPAP\n",
      "Set pressure 15 cmH2O\n",
      "EPR Fulltime\n",
      "EPR level 3\n",
      "Therapy\n",
      "Leaks - L/min Median:120.095th percentile:120.0Maximum:120.0\n",
      "Events per hour AI:8.7 HI:0.4AHI:9.1\n",
      "Apnea Index Central:0.0Obstructive:0.0Unknown:8.6\n",
      "RERA Index 1.0\n",
      "Cheyne-Stokes respiration (average duration per night) 0 minutes (0%)\n",
      "Usage - hours\n"
     ]
    }
   ],
   "source": [
    "print(text)"
   ]
  },
  {
   "cell_type": "markdown",
   "metadata": {},
   "source": [
    "# Next, let's try pytesseract"
   ]
  },
  {
   "cell_type": "code",
   "execution_count": 12,
   "metadata": {},
   "outputs": [
    {
     "name": "stdout",
     "output_type": "stream",
     "text": [
      "Converted PDF to 4 images\n",
      "['SPLIT (NIGHT FRREPORT MUBISQONS STF Dl SOSTTAIRERG ENE BIRER\\n\\nNanna: StudyDBiate?/22/2B)32023\\n\\nDOB: Gender: Male Medira IRRedE\\n\\nHeight: 5\"11\\'1\" Weigfit: 2220/t@ lbs BMI: 3088s Sleep SSpeiciaiis\\n\\nPhysician): ReiseceddoffraanD DO Scorimyl Tet h0gdanedves RPSGT\\nType oof Tas G@PEALNIGMGHT\\n\\nChief CGomiplain$n orig apayne ated\\n\\nMedicatiosscimmanton mikktithist|4ishfish soily sitatvasketinppirilh hydroontnetiniaziglejocsannineaspinirB 18h ang,\\niprattoopionbrdonoamide\\n\\ni ; ogra DGOjEN sleepforosisix monaore\\nhowe wit aebysicion igexiew raed dhterpret atin Afbilowiymemanatercs wane: costck 3-2, FaLbM 1 Aa oe AM DJORIMA, OL Ma) BOC, Ml,\\nLOC-M2, GhimE EMGR RA LAT hanasphessu ce tkenmistosnoressensoRiP (chest, abdtonten) pullseooniatetryodpadyitiposiAdinsaoniggofollews\\nthe reno mencatiationéittre AAmerncahcatcade nt 5 of Sléep cid iinessAH I (Apa ai yalypoqarsdbnsite )isifveheumbenbé aporap remathipyqojeaeas\\nwith aat40/ciecdetatuicatiper hoounfafistee|s MEMSqnequicethe fenitea ln ppqnoene 30-90% awattiotion droreniasaftowlfo ab teledst 01@csedends,\\nassodidtedwith302090 %-haphaséureductitne oforhiolac oa dooneanch tial lovedd> yoyxoxyy dastesdiuratianiteast 4 °cTine cevarthehidulat not\\nbe sseoréds asntehiraheinresenprasteceriag! icinaredseulrmsubeh GMa activity.\\n\\nFull INighRRecotetedin ti fidB| TABS Sin.\\n\\nDIAGNOSTIC S&ECITOON\\nSLEEP STAGE SSUMMARRY:\\nLigttitsOQtut: 10:1 170704 PM Latengyot6leSleep85.221min. Total Steeplitime: 12655ninin.\\nLigihitsOOn: 03:00G:050\"4 AM Latengyiote: R:  16290nmin. Wake adftte¥.G: O.: 72.00nmin.\\nTota lFRecoddéd imin@ 8T1B)2837 Min. Sleep EEffierency: 44.56%\\nSTAGES Minutes ™% TST Normal *monmaa varatues ealbesba sed? 6n- 7.5 fcBus hours\\nNi 14.00 11.19% 2-5% of slegp in a yourny adult withott sleep\\nN2 89.55 70.88% 45-555% Connppberitit\\nN3 21.00 16.66% 13-223%\\nR 2.0 1.6% 20-23 5%\\nTotal 12655 100\\nRESPIRATORY SUMMARY: Totall AHI: 161 1\\nEvent Type Numnalbarr index Body PRestiion Minuites;\\nObsinudtivApApaea - - AHI Supine: - Supiime -\\nMixetiAdorea - - AHI Left: 16.11 Left 12655\\nCentra lApmea ~ - AHI Rigtt: - Righit -\\nObsinutiy etyeypopnea 34 1611 AHI Prome: - Prone -\\nCentra lHypopieea - - % Contre lEw: -\\nApnea+ +\\\\hiypopmea 34 1611 OAHI: 16.11\\nAHI iim-R Steep: 30.00\\nAROUSAL SSUNUNVAARY: Count Index PERIODIC LUNVEBMOOXEMENTSELMIM ARRAY\\nTotal Numobeof 6faArsalsal: 51 24.22 Total#b? PUNIs 238\\nRespilaitorPibistarban causal 16 7.6 Total FOF PUM HIAlSteep 238\\nPLM arousats 5 2.4 PLMs Indexinisisteep 11299\\nSponitenreog arouse | 27 12.88\\nRERAs 9 4.3\\nOXIMETRY SUMMARY:\\n\\nThe Idowetstte st sactiuma thas :8 8490 %\\nThe nmeaspSpovasweas592. 6%\\nMinuttesS SPD2 8298826 {2 [B( DTOYB) of TIB)\\n\\nOxygen DBitribistioron :\\n\\n| 10995} 95-900 | 90-885 | 85-880 | 80735 | 75700 | 70-665 | 65-@D | G08 | 55-580 |\\n\\nMinutes\\n\\name 55 247 4 73 *~ 0.4\\n% of Thinte 87.44% 0.1%\\n\\n\\nTITRATION SECTION\\nSLEEP STAGE SSUMAMARY:\\n\\nLigihttsOOtut: 03:00G:05\\'0\" AM Latemoyiot6leSteep68.00mnin. Total Steep itfime: 8100nmin.\\nLigthttsOOn: 06:224:249M AM Latemoyote: R: 38.55inin. Wake adfitet.G: O.: 54.55mmin.\\nTota lFRecotdéd iMimé &T1B)20399nmin. Sleep EEfficrency: 39.77%\\nSTAGES Minutes % TST Normal! prorinda lVavatGes ealestya sed? Sn- 7.5 AcBuS hours\\nN1 8.0 9.9% 2-5™% of slegp in a young adult witirott sleep\\nN2 53.55 66.00% 45-559% Cornepteriht\\nN3 75 9.3% 13-25%\\nR 12.00 14.58% 20-22 5%\\nTotal 81.00 100\\n\\nRESPIRATORY SUMMARY: Total AHI: 59\\nEvent Type Numnlbarr index Body PRestiion Minutes;\\nObsinuttiva pApaea - - AHI Supine: - Supiime -\\nMixediAnonea - - AHI Left: 10.55 Left 40.00\\nCentra lpm ~ - AHI Rigftit: 15 Righit 41.00\\nObstnudtiy eyEiypopnea 8 5.9 AHI Prome: - Prone -\\nCentral lHyponeea - - % Cantalev: -\\nApnea+ +\\\\hiypopmea 8 5.9 OAHI: 5.9\\n\\nAHI iimRR Steep: 5.0\\n\\nAROUSAL SSUNUNVAARY: Count Index PERIODIC UINVEBMOOXEMENTTSELMAARRYY\\nTotal Numobeof 6farsalsal: 15 1141 Total#0b? PUN|s 75\\nRespiiaitor Diiisturbes demos! - - Total #obdP PUM MIsISteep 75\\nPLM atrowsdts 1 0.7 PLMs Indexinislstgep 55.66\\nSponitenrteos arousa | 14 10.44\\nRERAs 2 1.5\\n\\nOXIMETRY SUMMARY:\\n\\nThe Idowetste seésatiura thas :8 B60 %\\nThe nmeaspSpovaswas094. 0%\\nMinuttesS SPD2 829886 {218d DOB) of TIB)\\n\\nOxygen DBisthiotieon:\\nMimuttas\\n\\nj2asmn| room| sow | = | 2 | 2 | 2 | 2 |e |e\\n% Of Tiinge | 24.55%| 72.00% 3.5%\\n\\nCARDIAC ERXENATS (f(A higti@t) :\\nAverapeHARidundngessicep: 74.77\\nMinimum rR Rudiod geste ep: 60.00\\nMinimum HR Rudiad ne: arecor-défgi0\\nHigiestHR duwimiagsisteep: 97.00\\nHigimestHR dumiag erecdrding10900\\n\\nY/N Event Type\\nN Bradycaridia Lowesitrataté1 71\\nN Asysitdte Longes tpausse +\\nN Sinus tadolnacaiaddauniags! steep Highesttraitte - -\\nN Nammowc wontyol éxc thanchivicardia Highhestratte- -\\nN Wide coomiplexcbachycardia Higitestraite- -\\nY Atria lfifibititation Lowesttrataté0 60\\nY Pacenmaeer\\nN Otter\\n\\nPagre2 af df 4\\n\\nLATIVE CPAP\\n\\nREM nee CA | OH Min\\nSleep CH A#H Total OSat\\n)\\n\\n_ 7 7 aoa gf 0.00 94.00\\n_ 8 1 5590 0.0 | 00 | | 00 | 00%! - | 0.00 88.00\\n\\n*=(C PAP\\n\\nNote: BBitex-el 7 EPAtR ate ASL PH EP/SMiraRBB MaxPS;\\n\\nCRONOLOGICAL GPAP SSIDAMARRY :\\n\\nAst Total | OSat po\\nIndex Evertss AHI 838% t\\n1.00 84.00\\n7.0 50 0.00 94.00\\n5500 0.0 J 0.00 88.00\\n\\n0.00 90.00\\n\\n_ 8 |\\nScat\\n1700 7.0 fool ’ 0.11 88.00\\n\\na | 2 : 0.00 86.00\\n\\nNote: Bi BBitesrel E7 EPstRaté\\\\ ASVAHE EP/QMieRBBMaxPS;\\n\\nACQUIRING TECHNOLOGIST: :JjoeLhan&PRRSGT\\nACQUIRING TECHNOLOGIST SUMMARY :SSHETEEGNNOOOGIS RIREPRRIN PAR AEINENSLESLE OR ORTENFPBRERISE\\n\\nEpworthS SigepiseSxcale: 6\\nPain A&Sssessrpdnt: 0\\n\\nSCORING TECHIE SST: Joe LanteRRPSGT\\n\\nSCORING TEGO SSTSBYMMRRY This wwas splisplithhigintystddyslepten Sle ptft am cis) hteftiaad Sm@ininsptes d\\nrespiratoryy aventsreweted nGiPRAP waastatarntedd anatetitmatéctnto4, GARZOHERBe Ba nHdiunséttees MAAdium Vitel\\nHe reepdeted athat sini si¢eplain whe Watswasnwonse ttedredlsealentHe. Ms.cDi MG ubihtiMe\\n\\nHyqnaggiram\\n\\nSEn=Ez\\n\\nTh a!\\n\\n(tines is) 22117505 23008505 23555505 O0D444505 09:333505 02222505 031190505 04000505 04499505 05:388505\\n\\n(arms\\'s) ¥ 22:117505 23008505 23:558505 00:444505 00:333505 O2222505 03:1130505 04000505 04:449505 05:38:05\\n\\nheme es | ee ees 0)\\neaeiay tNiiypopnea\\n\\nTimmeocPaya\\n(inems) s) y 22119505 23008505 23555505 OD444505 09:333505 02227505 03:1190505 0400005 04499505 05:388505\\n\\nOSat\\n\\nTimteo Raa\\n(timms s) Y 22:1722505 23000505 23555505 00:444505 01:33m505 02:222505 03:111505 0400505 04449505 05:338505\\n\\nBodly FRostiion\\n\\nTimreotBada\\nhint) S) y 22117505 2300505 23:555505 00444505 09:333505 02222505 0351190505 0400005 044995505 05;388505\\n\\nO02 (Besatstration UUM EDE LL DVL RN) I | A Vk] LL) | |\\n\\nTiimmen6 y\\ncae) 22110505 23006505 23555505 00444505 01:33305 02:222505 03:10505 04000505 04449505 05388505\\nRespERA |\\nAcousai eS A (1 1 | | VO |\\nTinmecd (Ob ay I T T T T T T T T T\\n(hnees)s) 22:1775 2300505 235551905 OM444t505 01:3330905 02:222505 O3:110505 04000505 04:4999505 05:338505\\nPullse Fate\\n\\nbpm\\nTine\\n\\ny\\nhint) S) 22:171M505 2BIOMSOS 2BSSH505 ON:44495 01533305 022255 0321110505 04000505 04:499505 05:338)905\\n\\nPressute Tiiteatian\\n-——————_\\n5\\nLS a ay ee ee es ee |\\n\\nTi SBD\\n(inems:)s) y 2211505 2BIOMSO5 2BSSH505 O0:444055 01:33305  02:222505 O3:1110505 040001505 044991505 05:388i505\\nLimi NMborerane nt CC\\nTimreotBaay\\n\\n(uns s) 22:32:0505 2390@505 23556505 00:444505 O9:333505 02222505 O03:1130505 04000505 04:49%505 05389505\\nTimeobBDa\\n\\n(inns) s) ¥ 22:1TM505 = 2BIOGSO5 2BSSSH505 O00:444095 01:333095 02:22%55 03:111095 04:00M505 04:499505 05:338)505\\n\\nPage4 4f af 4\\n\\n']\n"
     ]
    }
   ],
   "source": [
    "def extract_text_ocr(pdf_file):\n",
    "    from pdf2image import convert_from_path\n",
    "    import pytesseract\n",
    "    images = convert_from_path(pdf_file, dpi=300)\n",
    "    print(f\"Converted PDF to {len(images)} images\")\n",
    "    text = ''\n",
    "    for image in images:\n",
    "        text += pytesseract.image_to_string(image) + \"\\n\"\n",
    "    return text\n",
    "\n",
    "text = extract_text_ocr(pdf_files[7])   \n",
    "print([text])\n"
   ]
  },
  {
   "cell_type": "markdown",
   "metadata": {},
   "source": [
    "# Time and Quality Analsis \n",
    "\n",
    "For the time comparison, let's run our script which calls all these functions for all our files and measures the time taken"
   ]
  },
  {
   "cell_type": "code",
   "execution_count": 13,
   "metadata": {},
   "outputs": [],
   "source": [
    "# Let's create a function to call all these functions and measure the time taken\n",
    "import time\n",
    "\n",
    "def calculate_time(pdf_file, function):\n",
    "    print(f\"Running {function.__name__}\")\n",
    "    start_time = time.time()\n",
    "    text = function(pdf_file)\n",
    "    end_time = time.time()\n",
    "    print(f\"Time taken: {end_time - start_time} seconds\")\n",
    "    return text, end_time - start_time\n"
   ]
  },
  {
   "cell_type": "code",
   "execution_count": 14,
   "metadata": {},
   "outputs": [
    {
     "name": "stdout",
     "output_type": "stream",
     "text": [
      "Running extract_text_pymupdf4llm\n",
      "Processing /Users/deveshsurve/UNIVERSITY/PROJECT/classify-pdf/data_files/Compliance Report 4.pdf...\n",
      "[                                        ] (0/1=======================================[========================================] (1/1]\n",
      "Time taken: 0.18959832191467285 seconds\n",
      "Running extract_text_pymupdf4llm\n",
      "Processing /Users/deveshsurve/UNIVERSITY/PROJECT/classify-pdf/data_files/Compliance Report 1.pdf...\n",
      "[                                        ] (0/4=========[==========                              ] (1/4=========[====================                    ] (2/4=========[==============================          ] (3/4=========[========================================] (4/4]\n",
      "Time taken: 1.8267688751220703 seconds\n",
      "Running extract_text_pymupdf4llm\n",
      "Processing /Users/deveshsurve/UNIVERSITY/PROJECT/classify-pdf/data_files/Compliance Report 2.pdf...\n",
      "[                                        ] (0/5=======[========                                ] (1/5=======[================                        ] (2/5=======[========================                ] (3/5=======[================================        ] (4/5=======[========================================] (5/5]\n",
      "Time taken: 1.6487069129943848 seconds\n",
      "Running extract_text_pymupdf4llm\n",
      "Processing /Users/deveshsurve/UNIVERSITY/PROJECT/classify-pdf/data_files/Compliance Report 3.pdf...\n",
      "[                                        ] (0/2===================[====================                    ] (1/2===================[========================================] (2/2]\n",
      "Time taken: 3.9359049797058105 seconds\n",
      "Running extract_text_pymupdf4llm\n",
      "Processing /Users/deveshsurve/UNIVERSITY/PROJECT/classify-pdf/data_files/Sleep Study Report 3.pdf...\n",
      "[                                        ] (0/3============[=============                           ] (1/============[==========================              ] (2/3=============[========================================] (3/3]\n",
      "Time taken: 0.18677592277526855 seconds\n",
      "Running extract_text_pymupdf4llm\n",
      "Processing /Users/deveshsurve/UNIVERSITY/PROJECT/classify-pdf/data_files/Sleep Study Report 2.pdf...\n",
      "[                                        ] (0/3============[=============                           ] (1/============[==========================              ] (2/3=============[========================================] (3/3]\n",
      "Time taken: 0.26331305503845215 seconds\n",
      "Running extract_text_pymupdf4llm\n",
      "Processing /Users/deveshsurve/UNIVERSITY/PROJECT/classify-pdf/data_files/Sleep Study Report 1.pdf...\n",
      "[                                        ] (0/3============[=============                           ] (1/============[==========================              ] (2/3=============[========================================] (3/3]\n",
      "Time taken: 0.35601305961608887 seconds\n",
      "Running extract_text_pymupdf4llm\n",
      "Processing /Users/deveshsurve/UNIVERSITY/PROJECT/classify-pdf/data_files/Sleep Study Report 4.pdf...\n",
      "[                                        ] (0/4=========[==========                              ] (1/4=========[====================                    ] (2/4=========[==============================          ] (3/4=========[========================================] (4/4]\n",
      "Time taken: 0.47289013862609863 seconds\n",
      "Running extract_text_pymupdf4llm\n",
      "Processing /Users/deveshsurve/UNIVERSITY/PROJECT/classify-pdf/data_files/Order 3.pdf...\n",
      "[                                        ] (0/1=======================================[========================================] (1/1]\n",
      "Time taken: 0.04277801513671875 seconds\n",
      "Running extract_text_pymupdf4llm\n",
      "Processing /Users/deveshsurve/UNIVERSITY/PROJECT/classify-pdf/data_files/Delivery Ticket 2.pdf...\n",
      "[                                        ] (0/2===================[====================                    ] (1/2===================[========================================] (2/2]\n",
      "Time taken: 0.3788459300994873 seconds\n",
      "Running extract_text_pymupdf4llm\n",
      "Processing /Users/deveshsurve/UNIVERSITY/PROJECT/classify-pdf/data_files/Physician Notes 1.pdf...\n",
      "[                                        ] (0/1=[==                                      ] ( 1/17=[====                                    ] ( 2/17==[=======                                 ] ( 3/1=[=========                               ] ( 4/1=[===========                             ] ( 5/1==[==============                          ] ( 6/17=[================                        ] ( 7/17=[==================                      ] ( 8/17==[=====================                   ] ( 9/1=[=======================                 ] (10/1=[=========================               ] (11/1==[============================            ] (12/17=[==============================          ] (13/17=[================================        ] (14/17==[===================================     ] (15/1=[=====================================   ] (16/1==[========================================] (17/17]\n",
      "Time taken: 7.276443004608154 seconds\n",
      "Running extract_text_pymupdf4llm\n",
      "Processing /Users/deveshsurve/UNIVERSITY/PROJECT/classify-pdf/data_files/Prescription 4.pdf...\n",
      "[                                        ] (0/1=======================================[========================================] (1/1]\n",
      "Time taken: 0.07357096672058105 seconds\n",
      "Running extract_text_pymupdf4llm\n",
      "Processing /Users/deveshsurve/UNIVERSITY/PROJECT/classify-pdf/data_files/Order 2.pdf...\n",
      "[                                        ] (0/1=======================================[========================================] (1/1]\n",
      "Time taken: 0.07526183128356934 seconds\n",
      "Running extract_text_pymupdf4llm\n",
      "Processing /Users/deveshsurve/UNIVERSITY/PROJECT/classify-pdf/data_files/Physician Notes 3.pdf...\n",
      "[                                        ] (0/6=====[======                                  ] (1/6======[=============                           ] (2/======[====================                    ] (3/6=====[==========================              ] (4/6======[=================================       ] (5/======[========================================] (6/6]\n",
      "Time taken: 0.5239462852478027 seconds\n",
      "Running extract_text_pymupdf4llm\n",
      "Processing /Users/deveshsurve/UNIVERSITY/PROJECT/classify-pdf/data_files/Delivery Ticket 1.pdf...\n",
      "[                                        ] (0/2===================[====================                    ] (1/2===================[========================================] (2/2]\n",
      "Time taken: 0.25994277000427246 seconds\n",
      "Running extract_text_pymupdf4llm\n",
      "Processing /Users/deveshsurve/UNIVERSITY/PROJECT/classify-pdf/data_files/Physician Notes 2.pdf...\n",
      "[                                        ] (0/7====[=====                                   ] (1/=====[===========                             ] (2/=====[=================                       ] (3/====[======================                  ] (4/7=====[============================            ] (5/7=====[==================================      ] (6/7=====[========================================] (7/7]\n",
      "Time taken: 0.9858109951019287 seconds\n",
      "Running extract_text_pymupdf4llm\n",
      "Processing /Users/deveshsurve/UNIVERSITY/PROJECT/classify-pdf/data_files/Order 1.pdf...\n",
      "[                                        ] (0/1=======================================[========================================] (1/1]\n",
      "Time taken: 0.07537102699279785 seconds\n",
      "Running extract_text_pymupdf4llm\n",
      "Processing /Users/deveshsurve/UNIVERSITY/PROJECT/classify-pdf/data_files/Prescription 2.pdf...\n",
      "[                                        ] (0/1=======================================[========================================] (1/1]\n",
      "Time taken: 0.062010765075683594 seconds\n",
      "Running extract_text_pymupdf4llm\n",
      "Processing /Users/deveshsurve/UNIVERSITY/PROJECT/classify-pdf/data_files/Order 4.pdf...\n",
      "[                                        ] (0/1=======================================[========================================] (1/1]\n",
      "Time taken: 0.17902493476867676 seconds\n",
      "Running extract_text_pymupdf4llm\n",
      "Processing /Users/deveshsurve/UNIVERSITY/PROJECT/classify-pdf/data_files/Physician Notes 4.pdf...\n",
      "[                                        ] (0/4=========[==========                              ] (1/4=========[====================                    ] (2/4=========[==============================          ] (3/4=========[========================================] (4/4]\n",
      "Time taken: 0.5655779838562012 seconds\n",
      "Running extract_text_pymupdf4llm\n",
      "Processing /Users/deveshsurve/UNIVERSITY/PROJECT/classify-pdf/data_files/Prescription 1.pdf...\n",
      "[                                        ] (0/1=======================================[========================================] (1/1]\n",
      "Time taken: 0.07557106018066406 seconds\n",
      "Running extract_text_pymupdf\n",
      "Time taken: 0.002079010009765625 seconds\n",
      "Running extract_text_pymupdf\n",
      "Time taken: 0.01101994514465332 seconds\n",
      "Running extract_text_pymupdf\n",
      "Time taken: 0.010565996170043945 seconds\n",
      "Running extract_text_pymupdf\n",
      "Time taken: 0.010460138320922852 seconds\n",
      "Running extract_text_pymupdf\n",
      "Time taken: 0.0007398128509521484 seconds\n",
      "Running extract_text_pymupdf\n",
      "Time taken: 0.0006871223449707031 seconds\n",
      "Running extract_text_pymupdf\n",
      "Time taken: 0.0006711483001708984 seconds\n",
      "Running extract_text_pymupdf\n",
      "Time taken: 0.01105809211730957 seconds\n",
      "Running extract_text_pymupdf\n",
      "Time taken: 0.0005321502685546875 seconds\n",
      "Running extract_text_pymupdf\n",
      "Time taken: 0.005232810974121094 seconds\n",
      "Running extract_text_pymupdf\n",
      "Time taken: 0.0018558502197265625 seconds\n",
      "Running extract_text_pymupdf\n",
      "Time taken: 0.0005283355712890625 seconds\n",
      "Running extract_text_pymupdf\n",
      "Time taken: 0.0005071163177490234 seconds\n",
      "Running extract_text_pymupdf\n",
      "Time taken: 0.0009150505065917969 seconds\n",
      "Running extract_text_pymupdf\n",
      "Time taken: 0.004857063293457031 seconds\n",
      "Running extract_text_pymupdf\n",
      "Time taken: 0.0010828971862792969 seconds\n",
      "Running extract_text_pymupdf\n",
      "Time taken: 0.0005009174346923828 seconds\n",
      "Running extract_text_pymupdf\n",
      "Time taken: 0.0005021095275878906 seconds\n",
      "Running extract_text_pymupdf\n",
      "Time taken: 0.00048613548278808594 seconds\n",
      "Running extract_text_pymupdf\n",
      "Time taken: 0.010627985000610352 seconds\n",
      "Running extract_text_pymupdf\n",
      "Time taken: 0.0005249977111816406 seconds\n",
      "Running extract_text_pdfminer\n",
      "Time taken: 0.0030519962310791016 seconds\n",
      "Running extract_text_pdfminer\n",
      "Time taken: 0.36936116218566895 seconds\n",
      "Running extract_text_pdfminer\n",
      "Time taken: 0.3712010383605957 seconds\n",
      "Running extract_text_pdfminer\n",
      "Time taken: 0.5472860336303711 seconds\n",
      "Running extract_text_pdfminer\n",
      "Time taken: 0.004166841506958008 seconds\n",
      "Running extract_text_pdfminer\n",
      "Time taken: 0.0036559104919433594 seconds\n",
      "Running extract_text_pdfminer\n",
      "Time taken: 0.004548072814941406 seconds\n",
      "Running extract_text_pdfminer\n",
      "Time taken: 0.4373288154602051 seconds\n",
      "Running extract_text_pdfminer\n",
      "Time taken: 0.002808094024658203 seconds\n",
      "Running extract_text_pdfminer\n",
      "Time taken: 0.10380220413208008 seconds\n",
      "Running extract_text_pdfminer\n",
      "Time taken: 0.021594762802124023 seconds\n",
      "Running extract_text_pdfminer\n",
      "Time taken: 0.003473997116088867 seconds\n",
      "Running extract_text_pdfminer\n",
      "Time taken: 0.0026710033416748047 seconds\n",
      "Running extract_text_pdfminer\n",
      "Time taken: 0.008945941925048828 seconds\n",
      "Running extract_text_pdfminer\n",
      "Time taken: 0.09770679473876953 seconds\n",
      "Running extract_text_pdfminer\n",
      "Time taken: 0.011884212493896484 seconds\n",
      "Running extract_text_pdfminer\n",
      "Time taken: 0.002847909927368164 seconds\n",
      "Running extract_text_pdfminer\n",
      "Time taken: 0.0033609867095947266 seconds\n",
      "Running extract_text_pdfminer\n",
      "Time taken: 0.0031239986419677734 seconds\n",
      "Running extract_text_pdfminer\n",
      "Time taken: 0.1849358081817627 seconds\n",
      "Running extract_text_pdfminer\n",
      "Time taken: 0.0021958351135253906 seconds\n",
      "Running extract_text_llama_index\n",
      "Started parsing the file under job_id 1126869f-5a6a-45d4-8cf4-fd9e20181ea6\n",
      "....Time taken: 105.35405707359314 seconds\n",
      "Running extract_text_llama_index\n",
      "Started parsing the file under job_id 7fec065e-4037-4992-b001-5d1e8aed7558\n",
      "Time taken: 2.6447041034698486 seconds\n",
      "Running extract_text_llama_index\n",
      "Started parsing the file under job_id 94b7b8bb-edc7-4695-b8a5-7352d7f430e8\n",
      ".Time taken: 46.92492485046387 seconds\n",
      "Running extract_text_llama_index\n",
      "Started parsing the file under job_id d91c58a7-8b9c-42ea-baea-50d614b3852d\n",
      "Time taken: 20.872577905654907 seconds\n",
      "Running extract_text_llama_index\n",
      "Started parsing the file under job_id 0ab960c6-169f-4be4-ac12-991bf4039193\n",
      "Time taken: 22.946616172790527 seconds\n",
      "Running extract_text_llama_index\n",
      "Started parsing the file under job_id e4f33ef7-1957-48dc-a9b7-cb2b002e8e6b\n",
      "Time taken: 12.112551212310791 seconds\n",
      "Running extract_text_llama_index\n",
      "Started parsing the file under job_id 808e867e-2524-4608-b5d0-2587037c72ab\n",
      ".Time taken: 41.28989505767822 seconds\n",
      "Running extract_text_llama_index\n",
      "Started parsing the file under job_id 6b0ef0a2-3421-4f55-adc9-71636b188e7d\n",
      ".Time taken: 43.761911153793335 seconds\n",
      "Running extract_text_llama_index\n",
      "Started parsing the file under job_id 899be992-f216-409f-b384-1e5de3003410\n",
      "Time taken: 20.350064992904663 seconds\n",
      "Running extract_text_llama_index\n",
      "Started parsing the file under job_id 6760fcf9-f3ad-4ea8-af1b-d4a5974b9c15\n",
      "Time taken: 18.230772972106934 seconds\n",
      "Running extract_text_llama_index\n",
      "Started parsing the file under job_id 289564c5-e80b-4ceb-bedf-c35a64ce1c6c\n",
      "..Time taken: 68.36327409744263 seconds\n",
      "Running extract_text_llama_index\n",
      "Started parsing the file under job_id 04809dee-b2df-46b0-b654-87bf0136177b\n",
      ".Time taken: 33.3566620349884 seconds\n",
      "Running extract_text_llama_index\n",
      "Started parsing the file under job_id 262ca82e-cf24-4cbf-a4dd-15de9f885d1a\n",
      "Time taken: 19.58767080307007 seconds\n",
      "Running extract_text_llama_index\n",
      "Started parsing the file under job_id 335b331b-b55a-41a1-8caa-0d3dcb5d8baf\n",
      ".Time taken: 29.890085220336914 seconds\n",
      "Running extract_text_llama_index\n",
      "Started parsing the file under job_id 36358913-833a-4ffd-9c46-6f6ccff589cf\n",
      ".Time taken: 34.40859580039978 seconds\n",
      "Running extract_text_llama_index\n",
      "Started parsing the file under job_id acf4b7c1-2063-4c60-9f34-b6e008e137b1\n",
      ".Time taken: 24.524701833724976 seconds\n",
      "Running extract_text_llama_index\n",
      "Started parsing the file under job_id 31324d60-82fa-4d55-8aa3-066c003b509f\n",
      "Time taken: 21.968393802642822 seconds\n",
      "Running extract_text_llama_index\n",
      "Started parsing the file under job_id 10cc7436-680b-49ee-a709-033851111fe4\n",
      "Time taken: 17.69423794746399 seconds\n",
      "Running extract_text_llama_index\n",
      "Started parsing the file under job_id eff2c2b2-1c7d-4ff6-b390-4302dd37d3e5\n",
      ".Time taken: 31.358736038208008 seconds\n",
      "Running extract_text_llama_index\n",
      "Started parsing the file under job_id 356ad9b5-affb-4a3f-8fc1-5df60e1ddb9c\n",
      ".Time taken: 27.70563292503357 seconds\n",
      "Running extract_text_llama_index\n",
      "Started parsing the file under job_id e1c8bda2-019a-4933-8c03-5eae747e9b7e\n",
      "Time taken: 11.256379842758179 seconds\n",
      "Running extract_text_pypdf\n",
      "Time taken: 0.006679058074951172 seconds\n",
      "Running extract_text_pypdf\n",
      "Time taken: 0.17068099975585938 seconds\n",
      "Running extract_text_pypdf\n",
      "Time taken: 0.013517141342163086 seconds\n",
      "Running extract_text_pypdf\n",
      "Time taken: 0.03165411949157715 seconds\n",
      "Running extract_text_pypdf\n",
      "Time taken: 0.0014510154724121094 seconds\n",
      "Running extract_text_pypdf\n",
      "Time taken: 0.0011830329895019531 seconds\n",
      "Running extract_text_pypdf\n",
      "Time taken: 0.0013680458068847656 seconds\n",
      "Running extract_text_pypdf\n",
      "Time taken: 0.03287386894226074 seconds\n",
      "Running extract_text_pypdf\n",
      "Time taken: 0.0012927055358886719 seconds\n",
      "Running extract_text_pypdf\n",
      "Time taken: 0.021770000457763672 seconds\n",
      "Running extract_text_pypdf\n",
      "Time taken: 0.0021991729736328125 seconds\n",
      "Running extract_text_pypdf\n",
      "Time taken: 0.0011167526245117188 seconds\n",
      "Running extract_text_pypdf\n",
      "Time taken: 0.0010769367218017578 seconds\n",
      "Running extract_text_pypdf\n",
      "Time taken: 0.0017840862274169922 seconds\n",
      "Running extract_text_pypdf\n",
      "Time taken: 0.019926071166992188 seconds\n",
      "Running extract_text_pypdf\n",
      "Time taken: 0.0020720958709716797 seconds\n",
      "Running extract_text_pypdf\n",
      "Time taken: 0.0010418891906738281 seconds\n",
      "Running extract_text_pypdf\n",
      "Time taken: 0.0012509822845458984 seconds\n",
      "Running extract_text_pypdf\n",
      "Time taken: 0.0010440349578857422 seconds\n",
      "Running extract_text_pypdf\n",
      "Time taken: 0.023592233657836914 seconds\n",
      "Running extract_text_pypdf\n",
      "Time taken: 0.0010569095611572266 seconds\n"
     ]
    }
   ],
   "source": [
    "list_of_functions = [extract_text_pymupdf4llm, extract_text_pymupdf, extract_text_pdfminer, extract_text_llama_index, extract_text_pypdf]\n",
    "# list_of_functions = [extract_text_ocr]\n",
    "results = {}\n",
    "\n",
    "for function in list_of_functions:\n",
    "    function_name = function.__name__\n",
    "    results[function_name] = {\n",
    "        'total_time': 0,\n",
    "        'per_file_times': {},\n",
    "        'texts': {}\n",
    "    }\n",
    "    \n",
    "    for pdf_file in pdf_files:\n",
    "        text, time_taken = calculate_time(pdf_file, function)\n",
    "        file_name = pdf_file.split('/')[-1]  # Get just the filename\n",
    "        \n",
    "        results[function_name]['per_file_times'][file_name] = time_taken\n",
    "        results[function_name]['total_time'] += time_taken\n",
    "        results[function_name]['texts'][file_name] = text\n"
   ]
  },
  {
   "cell_type": "code",
   "execution_count": 26,
   "metadata": {},
   "outputs": [],
   "source": [
    "# # Save results to JSON\n",
    "# import json\n",
    "# with open('extraction_results.json', 'w', encoding='utf-8') as f:\n",
    "#     json.dump(results, f, ensure_ascii=False, indent=4)\n"
   ]
  },
  {
   "cell_type": "markdown",
   "metadata": {},
   "source": [
    "# Let's load the results and print the summary"
   ]
  },
  {
   "cell_type": "code",
   "execution_count": 27,
   "metadata": {},
   "outputs": [
    {
     "name": "stdout",
     "output_type": "stream",
     "text": [
      "\n",
      "extract_text_pymupdf4llm total time: 19.45 seconds\n",
      "\n",
      "extract_text_pymupdf total time: 0.08 seconds\n",
      "\n",
      "extract_text_pdfminer total time: 2.19 seconds\n",
      "\n",
      "extract_text_llama_index total time: 654.60 seconds\n",
      "\n",
      "extract_text_pypdf total time: 0.34 seconds\n",
      "\n",
      "extract_text_ocr total time: 241.48 seconds\n"
     ]
    }
   ],
   "source": [
    "# Load the results\n",
    "import json\n",
    "with open('extraction_results.json', 'r', encoding='utf-8') as f:\n",
    "    results = json.load(f)\n",
    "\n",
    "# Print summary of total times\n",
    "for function_name, data in results.items():\n",
    "    print(f\"\\n{function_name} total time: {data['total_time']:.2f} seconds\")\n",
    "\n"
   ]
  },
  {
   "cell_type": "code",
   "execution_count": 28,
   "metadata": {},
   "outputs": [
    {
     "data": {
      "text/plain": [
       "dict_keys(['extract_text_pymupdf4llm', 'extract_text_pymupdf', 'extract_text_pdfminer', 'extract_text_llama_index', 'extract_text_pypdf', 'extract_text_ocr'])"
      ]
     },
     "execution_count": 28,
     "metadata": {},
     "output_type": "execute_result"
    }
   ],
   "source": [
    "results.keys()"
   ]
  },
  {
   "cell_type": "code",
   "execution_count": 39,
   "metadata": {},
   "outputs": [
    {
     "data": {
      "application/vnd.plotly.v1+json": {
       "config": {
        "plotlyServerURL": "https://plot.ly"
       },
       "data": [
        {
         "hovertemplate": "<b>Method:</b> %{y}<br><b>Word Count:</b> %{x}<br><extra></extra>",
         "marker": {
          "color": "rgb(141,211,199)"
         },
         "name": "Compliance Report 4.pdf",
         "orientation": "h",
         "text": [
          "1",
          "0",
          "0",
          "146",
          "0",
          "159"
         ],
         "textposition": "auto",
         "type": "bar",
         "x": [
          1,
          0,
          0,
          146,
          0,
          159
         ],
         "xaxis": "x",
         "y": [
          "extract_text_pymupdf4llm",
          "extract_text_pymupdf",
          "extract_text_pdfminer",
          "extract_text_llama_index",
          "extract_text_pypdf",
          "extract_text_ocr"
         ],
         "yaxis": "y"
        },
        {
         "hovertemplate": "<b>Method:</b> %{y}<br><b>Word Count:</b> %{x}<br><extra></extra>",
         "marker": {
          "color": "rgb(255,255,179)"
         },
         "name": "Compliance Report 1.pdf",
         "orientation": "h",
         "text": [
          "601",
          "572",
          "572",
          "160",
          "151",
          "451"
         ],
         "textposition": "auto",
         "type": "bar",
         "x": [
          601,
          572,
          572,
          160,
          151,
          451
         ],
         "xaxis": "x2",
         "y": [
          "extract_text_pymupdf4llm",
          "extract_text_pymupdf",
          "extract_text_pdfminer",
          "extract_text_llama_index",
          "extract_text_pypdf",
          "extract_text_ocr"
         ],
         "yaxis": "y2"
        },
        {
         "hovertemplate": "<b>Method:</b> %{y}<br><b>Word Count:</b> %{x}<br><extra></extra>",
         "marker": {
          "color": "rgb(190,186,218)"
         },
         "name": "Compliance Report 2.pdf",
         "orientation": "h",
         "text": [
          "605",
          "576",
          "576",
          "178",
          "162",
          "513"
         ],
         "textposition": "auto",
         "type": "bar",
         "x": [
          605,
          576,
          576,
          178,
          162,
          513
         ],
         "xaxis": "x3",
         "y": [
          "extract_text_pymupdf4llm",
          "extract_text_pymupdf",
          "extract_text_pdfminer",
          "extract_text_llama_index",
          "extract_text_pypdf",
          "extract_text_ocr"
         ],
         "yaxis": "y3"
        },
        {
         "hovertemplate": "<b>Method:</b> %{y}<br><b>Word Count:</b> %{x}<br><extra></extra>",
         "marker": {
          "color": "rgb(251,128,114)"
         },
         "name": "Compliance Report 3.pdf",
         "orientation": "h",
         "text": [
          "316",
          "324",
          "324",
          "175",
          "159",
          "291"
         ],
         "textposition": "auto",
         "type": "bar",
         "x": [
          316,
          324,
          324,
          175,
          159,
          291
         ],
         "xaxis": "x4",
         "y": [
          "extract_text_pymupdf4llm",
          "extract_text_pymupdf",
          "extract_text_pdfminer",
          "extract_text_llama_index",
          "extract_text_pypdf",
          "extract_text_ocr"
         ],
         "yaxis": "y4"
        },
        {
         "hovertemplate": "<b>Method:</b> %{y}<br><b>Word Count:</b> %{x}<br><extra></extra>",
         "marker": {
          "color": "rgb(128,177,211)"
         },
         "name": "Sleep Study Report 3.pdf",
         "orientation": "h",
         "text": [
          "3",
          "0",
          "0",
          "157",
          "0",
          "474"
         ],
         "textposition": "auto",
         "type": "bar",
         "x": [
          3,
          0,
          0,
          157,
          0,
          474
         ],
         "xaxis": "x5",
         "y": [
          "extract_text_pymupdf4llm",
          "extract_text_pymupdf",
          "extract_text_pdfminer",
          "extract_text_llama_index",
          "extract_text_pypdf",
          "extract_text_ocr"
         ],
         "yaxis": "y5"
        }
       ],
       "layout": {
        "annotations": [
         {
          "font": {
           "size": 16
          },
          "showarrow": false,
          "text": "Compliance Report 4.pdf",
          "x": 0.5,
          "xanchor": "center",
          "xref": "paper",
          "y": 1,
          "yanchor": "bottom",
          "yref": "paper"
         },
         {
          "font": {
           "size": 16
          },
          "showarrow": false,
          "text": "Compliance Report 1.pdf",
          "x": 0.5,
          "xanchor": "center",
          "xref": "paper",
          "y": 0.78,
          "yanchor": "bottom",
          "yref": "paper"
         },
         {
          "font": {
           "size": 16
          },
          "showarrow": false,
          "text": "Compliance Report 2.pdf",
          "x": 0.5,
          "xanchor": "center",
          "xref": "paper",
          "y": 0.56,
          "yanchor": "bottom",
          "yref": "paper"
         },
         {
          "font": {
           "size": 16
          },
          "showarrow": false,
          "text": "Compliance Report 3.pdf",
          "x": 0.5,
          "xanchor": "center",
          "xref": "paper",
          "y": 0.33999999999999997,
          "yanchor": "bottom",
          "yref": "paper"
         },
         {
          "font": {
           "size": 16
          },
          "showarrow": false,
          "text": "Sleep Study Report 3.pdf",
          "x": 0.5,
          "xanchor": "center",
          "xref": "paper",
          "y": 0.12,
          "yanchor": "bottom",
          "yref": "paper"
         }
        ],
        "font": {
         "size": 10
        },
        "height": 1200,
        "showlegend": false,
        "template": {
         "data": {
          "bar": [
           {
            "error_x": {
             "color": "#2a3f5f"
            },
            "error_y": {
             "color": "#2a3f5f"
            },
            "marker": {
             "line": {
              "color": "#E5ECF6",
              "width": 0.5
             },
             "pattern": {
              "fillmode": "overlay",
              "size": 10,
              "solidity": 0.2
             }
            },
            "type": "bar"
           }
          ],
          "barpolar": [
           {
            "marker": {
             "line": {
              "color": "#E5ECF6",
              "width": 0.5
             },
             "pattern": {
              "fillmode": "overlay",
              "size": 10,
              "solidity": 0.2
             }
            },
            "type": "barpolar"
           }
          ],
          "carpet": [
           {
            "aaxis": {
             "endlinecolor": "#2a3f5f",
             "gridcolor": "white",
             "linecolor": "white",
             "minorgridcolor": "white",
             "startlinecolor": "#2a3f5f"
            },
            "baxis": {
             "endlinecolor": "#2a3f5f",
             "gridcolor": "white",
             "linecolor": "white",
             "minorgridcolor": "white",
             "startlinecolor": "#2a3f5f"
            },
            "type": "carpet"
           }
          ],
          "choropleth": [
           {
            "colorbar": {
             "outlinewidth": 0,
             "ticks": ""
            },
            "type": "choropleth"
           }
          ],
          "contour": [
           {
            "colorbar": {
             "outlinewidth": 0,
             "ticks": ""
            },
            "colorscale": [
             [
              0,
              "#0d0887"
             ],
             [
              0.1111111111111111,
              "#46039f"
             ],
             [
              0.2222222222222222,
              "#7201a8"
             ],
             [
              0.3333333333333333,
              "#9c179e"
             ],
             [
              0.4444444444444444,
              "#bd3786"
             ],
             [
              0.5555555555555556,
              "#d8576b"
             ],
             [
              0.6666666666666666,
              "#ed7953"
             ],
             [
              0.7777777777777778,
              "#fb9f3a"
             ],
             [
              0.8888888888888888,
              "#fdca26"
             ],
             [
              1,
              "#f0f921"
             ]
            ],
            "type": "contour"
           }
          ],
          "contourcarpet": [
           {
            "colorbar": {
             "outlinewidth": 0,
             "ticks": ""
            },
            "type": "contourcarpet"
           }
          ],
          "heatmap": [
           {
            "colorbar": {
             "outlinewidth": 0,
             "ticks": ""
            },
            "colorscale": [
             [
              0,
              "#0d0887"
             ],
             [
              0.1111111111111111,
              "#46039f"
             ],
             [
              0.2222222222222222,
              "#7201a8"
             ],
             [
              0.3333333333333333,
              "#9c179e"
             ],
             [
              0.4444444444444444,
              "#bd3786"
             ],
             [
              0.5555555555555556,
              "#d8576b"
             ],
             [
              0.6666666666666666,
              "#ed7953"
             ],
             [
              0.7777777777777778,
              "#fb9f3a"
             ],
             [
              0.8888888888888888,
              "#fdca26"
             ],
             [
              1,
              "#f0f921"
             ]
            ],
            "type": "heatmap"
           }
          ],
          "heatmapgl": [
           {
            "colorbar": {
             "outlinewidth": 0,
             "ticks": ""
            },
            "colorscale": [
             [
              0,
              "#0d0887"
             ],
             [
              0.1111111111111111,
              "#46039f"
             ],
             [
              0.2222222222222222,
              "#7201a8"
             ],
             [
              0.3333333333333333,
              "#9c179e"
             ],
             [
              0.4444444444444444,
              "#bd3786"
             ],
             [
              0.5555555555555556,
              "#d8576b"
             ],
             [
              0.6666666666666666,
              "#ed7953"
             ],
             [
              0.7777777777777778,
              "#fb9f3a"
             ],
             [
              0.8888888888888888,
              "#fdca26"
             ],
             [
              1,
              "#f0f921"
             ]
            ],
            "type": "heatmapgl"
           }
          ],
          "histogram": [
           {
            "marker": {
             "pattern": {
              "fillmode": "overlay",
              "size": 10,
              "solidity": 0.2
             }
            },
            "type": "histogram"
           }
          ],
          "histogram2d": [
           {
            "colorbar": {
             "outlinewidth": 0,
             "ticks": ""
            },
            "colorscale": [
             [
              0,
              "#0d0887"
             ],
             [
              0.1111111111111111,
              "#46039f"
             ],
             [
              0.2222222222222222,
              "#7201a8"
             ],
             [
              0.3333333333333333,
              "#9c179e"
             ],
             [
              0.4444444444444444,
              "#bd3786"
             ],
             [
              0.5555555555555556,
              "#d8576b"
             ],
             [
              0.6666666666666666,
              "#ed7953"
             ],
             [
              0.7777777777777778,
              "#fb9f3a"
             ],
             [
              0.8888888888888888,
              "#fdca26"
             ],
             [
              1,
              "#f0f921"
             ]
            ],
            "type": "histogram2d"
           }
          ],
          "histogram2dcontour": [
           {
            "colorbar": {
             "outlinewidth": 0,
             "ticks": ""
            },
            "colorscale": [
             [
              0,
              "#0d0887"
             ],
             [
              0.1111111111111111,
              "#46039f"
             ],
             [
              0.2222222222222222,
              "#7201a8"
             ],
             [
              0.3333333333333333,
              "#9c179e"
             ],
             [
              0.4444444444444444,
              "#bd3786"
             ],
             [
              0.5555555555555556,
              "#d8576b"
             ],
             [
              0.6666666666666666,
              "#ed7953"
             ],
             [
              0.7777777777777778,
              "#fb9f3a"
             ],
             [
              0.8888888888888888,
              "#fdca26"
             ],
             [
              1,
              "#f0f921"
             ]
            ],
            "type": "histogram2dcontour"
           }
          ],
          "mesh3d": [
           {
            "colorbar": {
             "outlinewidth": 0,
             "ticks": ""
            },
            "type": "mesh3d"
           }
          ],
          "parcoords": [
           {
            "line": {
             "colorbar": {
              "outlinewidth": 0,
              "ticks": ""
             }
            },
            "type": "parcoords"
           }
          ],
          "pie": [
           {
            "automargin": true,
            "type": "pie"
           }
          ],
          "scatter": [
           {
            "fillpattern": {
             "fillmode": "overlay",
             "size": 10,
             "solidity": 0.2
            },
            "type": "scatter"
           }
          ],
          "scatter3d": [
           {
            "line": {
             "colorbar": {
              "outlinewidth": 0,
              "ticks": ""
             }
            },
            "marker": {
             "colorbar": {
              "outlinewidth": 0,
              "ticks": ""
             }
            },
            "type": "scatter3d"
           }
          ],
          "scattercarpet": [
           {
            "marker": {
             "colorbar": {
              "outlinewidth": 0,
              "ticks": ""
             }
            },
            "type": "scattercarpet"
           }
          ],
          "scattergeo": [
           {
            "marker": {
             "colorbar": {
              "outlinewidth": 0,
              "ticks": ""
             }
            },
            "type": "scattergeo"
           }
          ],
          "scattergl": [
           {
            "marker": {
             "colorbar": {
              "outlinewidth": 0,
              "ticks": ""
             }
            },
            "type": "scattergl"
           }
          ],
          "scattermapbox": [
           {
            "marker": {
             "colorbar": {
              "outlinewidth": 0,
              "ticks": ""
             }
            },
            "type": "scattermapbox"
           }
          ],
          "scatterpolar": [
           {
            "marker": {
             "colorbar": {
              "outlinewidth": 0,
              "ticks": ""
             }
            },
            "type": "scatterpolar"
           }
          ],
          "scatterpolargl": [
           {
            "marker": {
             "colorbar": {
              "outlinewidth": 0,
              "ticks": ""
             }
            },
            "type": "scatterpolargl"
           }
          ],
          "scatterternary": [
           {
            "marker": {
             "colorbar": {
              "outlinewidth": 0,
              "ticks": ""
             }
            },
            "type": "scatterternary"
           }
          ],
          "surface": [
           {
            "colorbar": {
             "outlinewidth": 0,
             "ticks": ""
            },
            "colorscale": [
             [
              0,
              "#0d0887"
             ],
             [
              0.1111111111111111,
              "#46039f"
             ],
             [
              0.2222222222222222,
              "#7201a8"
             ],
             [
              0.3333333333333333,
              "#9c179e"
             ],
             [
              0.4444444444444444,
              "#bd3786"
             ],
             [
              0.5555555555555556,
              "#d8576b"
             ],
             [
              0.6666666666666666,
              "#ed7953"
             ],
             [
              0.7777777777777778,
              "#fb9f3a"
             ],
             [
              0.8888888888888888,
              "#fdca26"
             ],
             [
              1,
              "#f0f921"
             ]
            ],
            "type": "surface"
           }
          ],
          "table": [
           {
            "cells": {
             "fill": {
              "color": "#EBF0F8"
             },
             "line": {
              "color": "white"
             }
            },
            "header": {
             "fill": {
              "color": "#C8D4E3"
             },
             "line": {
              "color": "white"
             }
            },
            "type": "table"
           }
          ]
         },
         "layout": {
          "annotationdefaults": {
           "arrowcolor": "#2a3f5f",
           "arrowhead": 0,
           "arrowwidth": 1
          },
          "autotypenumbers": "strict",
          "coloraxis": {
           "colorbar": {
            "outlinewidth": 0,
            "ticks": ""
           }
          },
          "colorscale": {
           "diverging": [
            [
             0,
             "#8e0152"
            ],
            [
             0.1,
             "#c51b7d"
            ],
            [
             0.2,
             "#de77ae"
            ],
            [
             0.3,
             "#f1b6da"
            ],
            [
             0.4,
             "#fde0ef"
            ],
            [
             0.5,
             "#f7f7f7"
            ],
            [
             0.6,
             "#e6f5d0"
            ],
            [
             0.7,
             "#b8e186"
            ],
            [
             0.8,
             "#7fbc41"
            ],
            [
             0.9,
             "#4d9221"
            ],
            [
             1,
             "#276419"
            ]
           ],
           "sequential": [
            [
             0,
             "#0d0887"
            ],
            [
             0.1111111111111111,
             "#46039f"
            ],
            [
             0.2222222222222222,
             "#7201a8"
            ],
            [
             0.3333333333333333,
             "#9c179e"
            ],
            [
             0.4444444444444444,
             "#bd3786"
            ],
            [
             0.5555555555555556,
             "#d8576b"
            ],
            [
             0.6666666666666666,
             "#ed7953"
            ],
            [
             0.7777777777777778,
             "#fb9f3a"
            ],
            [
             0.8888888888888888,
             "#fdca26"
            ],
            [
             1,
             "#f0f921"
            ]
           ],
           "sequentialminus": [
            [
             0,
             "#0d0887"
            ],
            [
             0.1111111111111111,
             "#46039f"
            ],
            [
             0.2222222222222222,
             "#7201a8"
            ],
            [
             0.3333333333333333,
             "#9c179e"
            ],
            [
             0.4444444444444444,
             "#bd3786"
            ],
            [
             0.5555555555555556,
             "#d8576b"
            ],
            [
             0.6666666666666666,
             "#ed7953"
            ],
            [
             0.7777777777777778,
             "#fb9f3a"
            ],
            [
             0.8888888888888888,
             "#fdca26"
            ],
            [
             1,
             "#f0f921"
            ]
           ]
          },
          "colorway": [
           "#636efa",
           "#EF553B",
           "#00cc96",
           "#ab63fa",
           "#FFA15A",
           "#19d3f3",
           "#FF6692",
           "#B6E880",
           "#FF97FF",
           "#FECB52"
          ],
          "font": {
           "color": "#2a3f5f"
          },
          "geo": {
           "bgcolor": "white",
           "lakecolor": "white",
           "landcolor": "#E5ECF6",
           "showlakes": true,
           "showland": true,
           "subunitcolor": "white"
          },
          "hoverlabel": {
           "align": "left"
          },
          "hovermode": "closest",
          "mapbox": {
           "style": "light"
          },
          "paper_bgcolor": "white",
          "plot_bgcolor": "#E5ECF6",
          "polar": {
           "angularaxis": {
            "gridcolor": "white",
            "linecolor": "white",
            "ticks": ""
           },
           "bgcolor": "#E5ECF6",
           "radialaxis": {
            "gridcolor": "white",
            "linecolor": "white",
            "ticks": ""
           }
          },
          "scene": {
           "xaxis": {
            "backgroundcolor": "#E5ECF6",
            "gridcolor": "white",
            "gridwidth": 2,
            "linecolor": "white",
            "showbackground": true,
            "ticks": "",
            "zerolinecolor": "white"
           },
           "yaxis": {
            "backgroundcolor": "#E5ECF6",
            "gridcolor": "white",
            "gridwidth": 2,
            "linecolor": "white",
            "showbackground": true,
            "ticks": "",
            "zerolinecolor": "white"
           },
           "zaxis": {
            "backgroundcolor": "#E5ECF6",
            "gridcolor": "white",
            "gridwidth": 2,
            "linecolor": "white",
            "showbackground": true,
            "ticks": "",
            "zerolinecolor": "white"
           }
          },
          "shapedefaults": {
           "line": {
            "color": "#2a3f5f"
           }
          },
          "ternary": {
           "aaxis": {
            "gridcolor": "white",
            "linecolor": "white",
            "ticks": ""
           },
           "baxis": {
            "gridcolor": "white",
            "linecolor": "white",
            "ticks": ""
           },
           "bgcolor": "#E5ECF6",
           "caxis": {
            "gridcolor": "white",
            "linecolor": "white",
            "ticks": ""
           }
          },
          "title": {
           "x": 0.05
          },
          "xaxis": {
           "automargin": true,
           "gridcolor": "white",
           "linecolor": "white",
           "ticks": "",
           "title": {
            "standoff": 15
           },
           "zerolinecolor": "white",
           "zerolinewidth": 2
          },
          "yaxis": {
           "automargin": true,
           "gridcolor": "white",
           "linecolor": "white",
           "ticks": "",
           "title": {
            "standoff": 15
           },
           "zerolinecolor": "white",
           "zerolinewidth": 2
          }
         }
        },
        "title": {
         "text": "Word Count Comparison Across Different Methods",
         "x": 0.5
        },
        "xaxis": {
         "anchor": "y",
         "domain": [
          0,
          1
         ],
         "title": {
          "text": "Word Count"
         }
        },
        "xaxis2": {
         "anchor": "y2",
         "domain": [
          0,
          1
         ],
         "title": {
          "text": "Word Count"
         }
        },
        "xaxis3": {
         "anchor": "y3",
         "domain": [
          0,
          1
         ],
         "title": {
          "text": "Word Count"
         }
        },
        "xaxis4": {
         "anchor": "y4",
         "domain": [
          0,
          1
         ],
         "title": {
          "text": "Word Count"
         }
        },
        "xaxis5": {
         "anchor": "y5",
         "domain": [
          0,
          1
         ],
         "title": {
          "text": "Word Count"
         }
        },
        "yaxis": {
         "anchor": "x",
         "domain": [
          0.88,
          1
         ],
         "title": {
          "text": "Method"
         }
        },
        "yaxis2": {
         "anchor": "x2",
         "domain": [
          0.66,
          0.78
         ],
         "title": {
          "text": "Method"
         }
        },
        "yaxis3": {
         "anchor": "x3",
         "domain": [
          0.44,
          0.56
         ],
         "title": {
          "text": "Method"
         }
        },
        "yaxis4": {
         "anchor": "x4",
         "domain": [
          0.22,
          0.33999999999999997
         ],
         "title": {
          "text": "Method"
         }
        },
        "yaxis5": {
         "anchor": "x5",
         "domain": [
          0,
          0.12
         ],
         "title": {
          "text": "Method"
         }
        }
       }
      }
     },
     "metadata": {},
     "output_type": "display_data"
    }
   ],
   "source": [
    "import plotly.express as px\n",
    "import plotly.graph_objects as go\n",
    "from plotly.subplots import make_subplots\n",
    "\n",
    "# Create a subplot figure with 5 rows\n",
    "fig = make_subplots(rows=5, cols=1, subplot_titles=list(results['extract_text_pymupdf4llm']['texts'].keys())[:5],\n",
    "                    vertical_spacing=0.1)\n",
    "\n",
    "# Color scale for the bars\n",
    "colors = px.colors.qualitative.Set3\n",
    "\n",
    "for i, file_name in enumerate(list(results['extract_text_pymupdf4llm']['texts'].keys())[:5], start=1):\n",
    "    word_counts = {function_name: len(data['texts'][file_name].split()) \n",
    "                  for function_name, data in results.items()}\n",
    "    \n",
    "    # Add bar trace for each file\n",
    "    fig.add_trace(\n",
    "        go.Bar(\n",
    "            x=list(word_counts.values()),\n",
    "            y=list(word_counts.keys()),\n",
    "            orientation='h',\n",
    "            marker_color=colors[i-1],\n",
    "            name=file_name,\n",
    "            text=list(word_counts.values()),  # Add text labels\n",
    "            textposition='auto',\n",
    "        ),\n",
    "        row=i, col=1\n",
    "    )\n",
    "\n",
    "# Update layout\n",
    "fig.update_layout(\n",
    "    height=1200,  # Increase height to accommodate all subplots\n",
    "    showlegend=False,\n",
    "    title_text=\"Word Count Comparison Across Different Methods\",\n",
    "    title_x=0.5,  # Center the title\n",
    "    font=dict(size=10),\n",
    ")\n",
    "\n",
    "# Update axes labels\n",
    "fig.update_xaxes(title_text=\"Word Count\")\n",
    "fig.update_yaxes(title_text=\"Method\")\n",
    "\n",
    "# Add hover template\n",
    "fig.update_traces(\n",
    "    hovertemplate=\"<b>Method:</b> %{y}<br>\" +\n",
    "                  \"<b>Word Count:</b> %{x}<br>\" +\n",
    "                  \"<extra></extra>\"\n",
    ")\n",
    "\n",
    "fig.show()\n"
   ]
  },
  {
   "cell_type": "markdown",
   "metadata": {},
   "source": [
    "# So we see that llama_index and pytessract are the best performing method\n",
    "\n",
    "However, we see the llama-parse also extracts the hidden text in the pdf which is not visible in the original pdf. So I'll be using pytesseract for the final results.\n"
   ]
  },
  {
   "cell_type": "code",
   "execution_count": 40,
   "metadata": {},
   "outputs": [],
   "source": [
    "# Replace the text in the results json creating a final json file\n",
    "\n",
    "final_results = results['extract_text_ocr']\n",
    "\n",
    "import json\n",
    "with open('selected_results.json', 'w', encoding='utf-8') as f:\n",
    "    json.dump(final_results, f, ensure_ascii=False, indent=4)"
   ]
  },
  {
   "cell_type": "markdown",
   "metadata": {},
   "source": [
    "### Special Case : Skewed Image : Sleep Report 4"
   ]
  },
  {
   "cell_type": "code",
   "execution_count": 41,
   "metadata": {},
   "outputs": [
    {
     "data": {
      "text/plain": [
       "'/Users/deveshsurve/UNIVERSITY/PROJECT/classify-pdf/data_files/Sleep Study Report 4.pdf'"
      ]
     },
     "execution_count": 41,
     "metadata": {},
     "output_type": "execute_result"
    }
   ],
   "source": [
    "pdf_files[7]"
   ]
  },
  {
   "cell_type": "markdown",
   "metadata": {},
   "source": [
    "### Deskew and Enhance Contrast\n",
    "\n",
    "Here we will use PyMuPDF and pdf2image to extract the images and then use cv2 to deskew and enhance the contrast"
   ]
  },
  {
   "cell_type": "code",
   "execution_count": 42,
   "metadata": {},
   "outputs": [],
   "source": [
    "import fitz  # PyMuPDF\n",
    "from pdf2image import convert_from_path\n",
    "import cv2\n",
    "import numpy as np\n",
    "from PIL import Image\n",
    "\n",
    "# Step 1: Extract PDF as Images\n",
    "pdf_path = pdf_files[7]\n",
    "images = convert_from_path(pdf_path, dpi=300)\n",
    "\n",
    "# Step 2: Deskew and Enhance Contrast\n",
    "def deskew_image(image):\n",
    "    gray = cv2.cvtColor(np.array(image), cv2.COLOR_RGB2GRAY)\n",
    "    edges = cv2.Canny(gray, 50, 150)\n",
    "    coords = np.column_stack(np.where(edges > 0))\n",
    "    angle = cv2.minAreaRect(coords)[-1]\n",
    "    if angle < -45:\n",
    "        angle = -(90 + angle)\n",
    "    else:\n",
    "        angle = -angle\n",
    "    (h, w) = gray.shape[:2]\n",
    "    M = cv2.getRotationMatrix2D((w // 2, h // 2), angle, 1.0)\n",
    "    deskewed = cv2.warpAffine(gray, M, (w, h), flags=cv2.INTER_CUBIC, borderMode=cv2.BORDER_REPLICATE)\n",
    "    return deskewed\n",
    "\n",
    "def enhance_contrast(image):\n",
    "    _, thresholded = cv2.threshold(image, 128, 255, cv2.THRESH_BINARY + cv2.THRESH_OTSU)\n",
    "    return thresholded\n",
    "\n",
    "processed_images = [deskew_image(img) for img in images]\n",
    "\n",
    "# Step 3: Save Back as PDF\n",
    "pil_images = [Image.fromarray(img) for img in processed_images]\n",
    "pil_images[0].save(folder_path + \"/\" + \"Sleep Study Report 4 Deskew.pdf\", save_all=True, append_images=pil_images[1:])\n"
   ]
  },
  {
   "cell_type": "markdown",
   "metadata": {},
   "source": [
    "# Future Work : \n",
    "1. Experiment with Markdown and Text\n",
    "2. Experiment with different OCR libraries like paddlepaddle, easyocr, etc.\n",
    "3. Add CV functions to the pipeline like deskew, enhance contrast, etc and compare the results"
   ]
  },
  {
   "cell_type": "code",
   "execution_count": null,
   "metadata": {},
   "outputs": [],
   "source": []
  },
  {
   "cell_type": "code",
   "execution_count": null,
   "metadata": {},
   "outputs": [],
   "source": []
  }
 ],
 "metadata": {
  "kernelspec": {
   "display_name": "classify",
   "language": "python",
   "name": "python3"
  },
  "language_info": {
   "codemirror_mode": {
    "name": "ipython",
    "version": 3
   },
   "file_extension": ".py",
   "mimetype": "text/x-python",
   "name": "python",
   "nbconvert_exporter": "python",
   "pygments_lexer": "ipython3",
   "version": "3.10.15"
  }
 },
 "nbformat": 4,
 "nbformat_minor": 2
}
